{
 "cells": [
  {
   "cell_type": "markdown",
   "metadata": {},
   "source": [
    " #  A Whale off the Port(folio)\n",
    " ---\n",
    "\n",
    " In this assignment, you'll get to use what you've learned this week to evaluate the performance among various algorithmic, hedge, and mutual fund portfolios and compare them against the S&P 500 Index."
   ]
  },
  {
   "cell_type": "code",
   "execution_count": 45,
   "metadata": {},
   "outputs": [],
   "source": [
    "# Initial imports\n",
    "import pandas as pd\n",
    "import numpy as np\n",
    "import datetime as dt\n",
    "from pathlib import Path\n",
    "\n",
    "%matplotlib inline"
   ]
  },
  {
   "cell_type": "markdown",
   "metadata": {},
   "source": [
    "# Data Cleaning\n",
    "\n",
    "In this section, you will need to read the CSV files into DataFrames and perform any necessary data cleaning steps. After cleaning, combine all DataFrames into a single DataFrame.\n",
    "\n",
    "Files:\n",
    "\n",
    "* `whale_returns.csv`: Contains returns of some famous \"whale\" investors' portfolios.\n",
    "\n",
    "* `algo_returns.csv`: Contains returns from the in-house trading algorithms from Harold's company.\n",
    "\n",
    "* `sp500_history.csv`: Contains historical closing prices of the S&P 500 Index."
   ]
  },
  {
   "cell_type": "markdown",
   "metadata": {},
   "source": [
    "## Whale Returns\n",
    "\n",
    "Read the Whale Portfolio daily returns and clean the data"
   ]
  },
  {
   "cell_type": "code",
   "execution_count": 46,
   "metadata": {},
   "outputs": [
    {
     "name": "stdout",
     "output_type": "stream",
     "text": [
      "        date     close\n",
      "0 2019-04-23  $2933.68\n",
      "1 2019-04-22  $2907.97\n",
      "2 2019-04-18  $2905.03\n",
      "3 2019-04-17  $2900.45\n",
      "4 2019-04-16  $2907.06\n",
      "5 2019-04-15  $2905.58\n",
      "6 2019-04-12  $2907.41\n",
      "7 2019-04-11  $2888.32\n",
      "8 2019-04-10  $2888.21\n",
      "9 2019-04-09  $2878.20\n",
      "date     datetime64[ns]\n",
      "close            object\n",
      "dtype: object\n",
      "        date   close\n",
      "0 2019-05-09  200.72\n",
      "1 2019-05-08  202.90\n",
      "2 2019-05-07  202.86\n",
      "3 2019-05-06  208.48\n",
      "4 2019-05-03  211.75\n",
      "5 2019-05-02  209.15\n",
      "6 2019-05-01  210.52\n",
      "7 2019-04-30  200.67\n",
      "8 2019-04-29  204.61\n",
      "9 2019-04-26  204.30\n",
      "date     datetime64[ns]\n",
      "close           float64\n",
      "dtype: object\n",
      "        date   close\n",
      "0 2019-05-09  243.47\n",
      "1 2019-05-08  241.34\n",
      "2 2019-05-07  240.18\n",
      "3 2019-05-06  244.23\n",
      "4 2019-05-03  244.62\n",
      "5 2019-05-02  242.69\n",
      "6 2019-05-01  241.59\n",
      "7 2019-04-30  245.53\n",
      "8 2019-04-29  244.28\n",
      "9 2019-04-26  243.82\n",
      "date     datetime64[ns]\n",
      "close           float64\n",
      "dtype: object\n",
      "        date    close\n",
      "0 2019-05-09  1162.38\n",
      "1 2019-05-08  1166.27\n",
      "2 2019-05-07  1174.10\n",
      "3 2019-05-06  1189.39\n",
      "4 2019-05-03  1185.40\n",
      "5 2019-05-02  1162.61\n",
      "6 2019-05-01  1168.08\n",
      "7 2019-04-30  1188.48\n",
      "8 2019-04-29  1287.58\n",
      "9 2019-04-26  1272.18\n",
      "date     datetime64[ns]\n",
      "close           float64\n",
      "dtype: object\n"
     ]
    }
   ],
   "source": [
    "# Reading whale returns\n",
    "\n",
    "# Set the file paths\n",
    "#whale_returns_data = Path(\"../Resources/whale_returns.csv\")\n",
    "#algo_returns_data = Path(\"../Resources/algo_returns.csv\")\n",
    "\n",
    "sp500_history_data = Path(\"./Resources/sp500_history.csv\")\n",
    "aapl_historical_data = Path(\"./Resources/aapl_historical.csv\")\n",
    "cost_historical_data = Path(\"./Resources/cost_historical.csv\")\n",
    "goog_historical_data = Path(\"./Resources/goog_historical.csv\")\n",
    "\n",
    "\n",
    "# Read the CSVs and set the `date` column as a datetime index to the DataFrame\n",
    "#whale_returns_df = pd.read_csv(whale_returns_data, index_col=\"date\", infer_datetime_format=True, parse_dates=True)\n",
    "#algo_returns_data = pd.read_csv(algo_returns_data, index_col=\"date\", infer_datetime_format=True, parse_dates=True)\n",
    "\n",
    "sp500_history_df = pd.read_csv(sp500_history_data)\n",
    "#index_col=\"Date\", infer_datetime_format=True, parse_dates=True)\n",
    "aapl_historical_df = pd.read_csv(aapl_historical_data)\n",
    "#index_col=\"Trade DATE\", infer_datetime_format=True, parse_dates=True)\n",
    "cost_historical_df = pd.read_csv(cost_historical_data)\n",
    "#index_col=\"Trade DATE\", infer_datetime_format=True, parse_dates=True)\n",
    "goog_historical_df = pd.read_csv(goog_historical_data)\n",
    "#index_col=\"Trade DATE\", infer_datetime_format=True, parse_dates=True)\n",
    "\n",
    "# sort each of the data frames with respect to the date\n",
    "\n",
    "# set the collumn names\n",
    "sp500_history_df.columns = ['date', 'close',]\n",
    "#drop $ symbols\n",
    "\n",
    "# Read dates to match accross all CSVs (format)\n",
    "\n",
    "sp500_history_df['date'] = pd.to_datetime(sp500_history_df['date'], format = '%d-%b-%y')\n",
    "\n",
    "pd.to_datetime(sp500_history_df['date'], format = '%d-%b-%y')\n",
    "\n",
    "# drop symbol\n",
    "aapl_historical_df = aapl_historical_df.drop(columns = ['Symbol'])\n",
    "cost_historical_df = cost_historical_df.drop(columns = ['Symbol'])\n",
    "goog_historical_df = goog_historical_df.drop(columns = ['Symbol'])\n",
    "\n",
    "aapl_historical_df.columns = ['date', 'close']\n",
    "aapl_historical_df['date'] = pd.to_datetime(aapl_historical_df['date'], format='%m/%d/%Y')\n",
    "\n",
    "cost_historical_df.columns = ['date', 'close']\n",
    "cost_historical_df['date'] = pd.to_datetime(cost_historical_df['date'], format='%m/%d/%Y')\n",
    "\n",
    "goog_historical_df.columns = ['date', 'close']\n",
    "goog_historical_df['date'] = pd.to_datetime(goog_historical_df['date'], format='%m/%d/%Y')\n",
    "\n",
    "\n",
    "# Print rows\n",
    "print(sp500_history_df.head(10))\n",
    "print(sp500_history_df.dtypes)\n",
    "\n",
    "print(aapl_historical_df.head(10))\n",
    "print(aapl_historical_df.dtypes)\n",
    "\n",
    "print(cost_historical_df.head(10))\n",
    "print(cost_historical_df.dtypes)\n",
    "\n",
    "print(goog_historical_df.head(10))\n",
    "print(goog_historical_df.dtypes)\n",
    "\n",
    "\n",
    "#set index\n",
    "#sp500_history_df = sp500_history_df.set_index(\"Date\")\n",
    "#aapl_historical_df = aapl_historical_df.set_index(\"Date\")\n",
    "#cost_historical_df = cost_historical_df.set_index(\"Date\")\n",
    "#goog_historical_df = goog_historical_df.set_index(\"Date\")\n",
    "\n",
    "# Sort each of the data frames with respect to their corresponding dates\n",
    "#sp500_history_df.sort_index(inplace=True)\n",
    "#aapl_historical_df.sort_index(inplace=True)\n",
    "#cost_historical_df.sort_index(inplace=True)\n",
    "#goog_historical_df.sort_index(inplace=True)\n",
    "\n",
    "#(inplace=True, index_col=\"date\", infer_datatime_format=True, parse_dates=True)\n",
    "\n",
    "# Display a few rows\n",
    "#whale_returns_df wrk_df.head()\n",
    "\n",
    "#SEARCH AND FIND TO IMPLEMENT: INFER_DATETIME_FORMAT = TRUE, PARSE_DATES-TRUE (DELETE)\n",
    "\n",
    "#concat\n",
    "#combined_df = pd.concat([sp500_history_df, aapl_historical_df, goog_historical_df, cost_historical_df], axis = \"columns\", join = \"inner\")\n",
    "\n",
    "# sort datetime index in ascending order\n",
    "#combined_df.sort_index(inplace=True)\n",
    "\n",
    "# set column names\n",
    "#combined_df.columns = ['SP500', 'AAPL', 'COST', 'GOOG']\n",
    "\n",
    "#sp500_history_df.head()\n",
    "#combined_df.head()"
   ]
  },
  {
   "cell_type": "code",
   "execution_count": 47,
   "metadata": {},
   "outputs": [],
   "source": [
    "#set index\n",
    "sp500_history_df = sp500_history_df.set_index(\"date\")\n",
    "aapl_historical_df = aapl_historical_df.set_index(\"date\")\n",
    "cost_historical_df = cost_historical_df.set_index(\"date\")\n",
    "goog_historical_df = goog_historical_df.set_index(\"date\")\n",
    "\n",
    "# Sort each of the data frames with respect to their corresponding dates\n",
    "sp500_history_df.sort_index(inplace=True)\n",
    "aapl_historical_df.sort_index(inplace=True)\n",
    "cost_historical_df.sort_index(inplace=True)\n",
    "goog_historical_df.sort_index(inplace=True)\n",
    "\n",
    "combined_df = pd.concat([sp500_history_df, aapl_historical_df, goog_historical_df, cost_historical_df], axis = \"columns\", join = \"inner\")\n",
    "\n",
    "combined_df.columns = ['SP500', 'AAPL', 'COST', 'GOOG']\n",
    "\n",
    "#sp500_history_df.head()\n",
    "#combind_df.head()"
   ]
  },
  {
   "cell_type": "code",
   "execution_count": 48,
   "metadata": {},
   "outputs": [
    {
     "name": "stdout",
     "output_type": "stream",
     "text": [
      "              close\n",
      "date               \n",
      "2012-10-01  1444.49\n",
      "2012-10-02  1445.75\n",
      "2012-10-03  1450.99\n",
      "2012-10-04  1461.40\n",
      "2012-10-05  1460.93\n",
      "close    float64\n",
      "dtype: object\n",
      "             close\n",
      "date              \n",
      "2018-05-11  188.59\n",
      "2018-05-14  188.15\n",
      "2018-05-15  186.44\n",
      "2018-05-16  188.18\n",
      "2018-05-17  186.99\n",
      "close    float64\n",
      "dtype: object\n",
      "             close\n",
      "date              \n",
      "2018-05-11  195.76\n",
      "2018-05-14  195.88\n",
      "2018-05-15  195.48\n",
      "2018-05-16  198.71\n",
      "2018-05-17  199.60\n",
      "close    float64\n",
      "dtype: object\n",
      "              close\n",
      "date               \n",
      "2018-05-11  1098.26\n",
      "2018-05-14  1100.20\n",
      "2018-05-15  1079.23\n",
      "2018-05-16  1081.77\n",
      "2018-05-17  1078.59\n",
      "close    float64\n",
      "dtype: object\n"
     ]
    }
   ],
   "source": [
    "# Clean and assign date to drop any un-wanted dollar \n",
    "#drop the dollar signs\n",
    "\n",
    "def clean_dollarsign(value):\n",
    "\n",
    "    if isinstance(value, str):\n",
    "        return(value.replace('$', ''))\n",
    "    return(value)\n",
    "\n",
    "sp500_history_df['close'] = sp500_history_df['close'].apply(clean_dollarsign).astype('float')\n",
    "\n",
    "\n",
    "# Print out all CSVs to see the drop dollar sign changes\n",
    "\n",
    "print(sp500_history_df.head())\n",
    "print(sp500_history_df.dtypes)\n",
    "\n",
    "print(aapl_historical_df.head())\n",
    "print(aapl_historical_df.dtypes)\n",
    "\n",
    "print(cost_historical_df.head())\n",
    "print(cost_historical_df.dtypes)\n",
    "\n",
    "print(goog_historical_df.head())\n",
    "print(goog_historical_df.dtypes)"
   ]
  },
  {
   "cell_type": "code",
   "execution_count": 49,
   "metadata": {},
   "outputs": [
    {
     "data": {
      "text/plain": [
       "close    0\n",
       "dtype: int64"
      ]
     },
     "execution_count": 49,
     "metadata": {},
     "output_type": "execute_result"
    }
   ],
   "source": [
    "# Count nulls\n",
    "\n",
    "sp500_history_df.isnull().sum()\n",
    "\n",
    "aapl_historical_df.isnull().sum()\n",
    "\n",
    "cost_historical_df.isnull().sum()\n",
    "\n",
    "goog_historical_df.isnull().sum()"
   ]
  },
  {
   "cell_type": "code",
   "execution_count": 6,
   "metadata": {},
   "outputs": [],
   "source": [
    "# Drop nulls\n"
   ]
  },
  {
   "cell_type": "markdown",
   "metadata": {},
   "source": [
    "## Algorithmic Daily Returns\n",
    "\n",
    "Read the algorithmic daily returns and clean the data"
   ]
  },
  {
   "cell_type": "code",
   "execution_count": 7,
   "metadata": {},
   "outputs": [],
   "source": [
    "# Reading algorithmic returns\n",
    "\n"
   ]
  },
  {
   "cell_type": "code",
   "execution_count": 8,
   "metadata": {},
   "outputs": [],
   "source": [
    "# Count nulls\n"
   ]
  },
  {
   "cell_type": "code",
   "execution_count": 9,
   "metadata": {},
   "outputs": [],
   "source": [
    "# Drop nulls\n"
   ]
  },
  {
   "cell_type": "markdown",
   "metadata": {},
   "source": [
    "## S&P 500 Returns\n",
    "\n",
    "Read the S&P 500 historic closing prices and create a new daily returns DataFrame from the data. "
   ]
  },
  {
   "cell_type": "code",
   "execution_count": 10,
   "metadata": {},
   "outputs": [],
   "source": [
    "# Reading S&P 500 Closing Prices\n"
   ]
  },
  {
   "cell_type": "code",
   "execution_count": 11,
   "metadata": {},
   "outputs": [],
   "source": [
    "# Check Data Types\n"
   ]
  },
  {
   "cell_type": "code",
   "execution_count": 12,
   "metadata": {},
   "outputs": [],
   "source": [
    "# Fix Data Types\n"
   ]
  },
  {
   "cell_type": "code",
   "execution_count": 13,
   "metadata": {},
   "outputs": [],
   "source": [
    "# Calculate Daily Returns\n"
   ]
  },
  {
   "cell_type": "code",
   "execution_count": 14,
   "metadata": {},
   "outputs": [],
   "source": [
    "# Drop nulls\n"
   ]
  },
  {
   "cell_type": "code",
   "execution_count": 15,
   "metadata": {},
   "outputs": [],
   "source": [
    "# Rename `Close` Column to be specific to this portfolio.\n"
   ]
  },
  {
   "cell_type": "markdown",
   "metadata": {},
   "source": [
    "## Combine Whale, Algorithmic, and S&P 500 Returns"
   ]
  },
  {
   "cell_type": "code",
   "execution_count": 16,
   "metadata": {},
   "outputs": [],
   "source": [
    "# Join Whale Returns, Algorithmic Returns, and the S&P 500 Returns into a single DataFrame with columns for each portfolio's returns.\n"
   ]
  },
  {
   "cell_type": "markdown",
   "metadata": {},
   "source": [
    "---"
   ]
  },
  {
   "cell_type": "markdown",
   "metadata": {},
   "source": [
    "# Conduct Quantitative Analysis\n",
    "\n",
    "In this section, you will calculate and visualize performance and risk metrics for the portfolios."
   ]
  },
  {
   "cell_type": "markdown",
   "metadata": {},
   "source": [
    "## Performance Anlysis\n",
    "\n",
    "#### Calculate and Plot the daily returns."
   ]
  },
  {
   "cell_type": "code",
   "execution_count": 17,
   "metadata": {},
   "outputs": [],
   "source": [
    "# Plot daily returns of all portfolios\n"
   ]
  },
  {
   "cell_type": "markdown",
   "metadata": {},
   "source": [
    "#### Calculate and Plot cumulative returns."
   ]
  },
  {
   "cell_type": "code",
   "execution_count": 18,
   "metadata": {},
   "outputs": [],
   "source": [
    "# Calculate cumulative returns of all portfolios\n",
    "\n",
    "# Plot cumulative returns\n"
   ]
  },
  {
   "cell_type": "markdown",
   "metadata": {},
   "source": [
    "---"
   ]
  },
  {
   "cell_type": "markdown",
   "metadata": {},
   "source": [
    "## Risk Analysis\n",
    "\n",
    "Determine the _risk_ of each portfolio:\n",
    "\n",
    "1. Create a box plot for each portfolio. \n",
    "2. Calculate the standard deviation for all portfolios\n",
    "4. Determine which portfolios are riskier than the S&P 500\n",
    "5. Calculate the Annualized Standard Deviation"
   ]
  },
  {
   "cell_type": "markdown",
   "metadata": {},
   "source": [
    "### Create a box plot for each portfolio\n"
   ]
  },
  {
   "cell_type": "code",
   "execution_count": 19,
   "metadata": {},
   "outputs": [],
   "source": [
    "# Box plot to visually show risk\n"
   ]
  },
  {
   "cell_type": "markdown",
   "metadata": {},
   "source": [
    "### Calculate Standard Deviations"
   ]
  },
  {
   "cell_type": "code",
   "execution_count": 20,
   "metadata": {},
   "outputs": [],
   "source": [
    "# Calculate the daily standard deviations of all portfolios\n"
   ]
  },
  {
   "cell_type": "markdown",
   "metadata": {},
   "source": [
    "### Determine which portfolios are riskier than the S&P 500"
   ]
  },
  {
   "cell_type": "code",
   "execution_count": 21,
   "metadata": {},
   "outputs": [],
   "source": [
    "# Calculate  the daily standard deviation of S&P 500\n",
    "\n",
    "# Determine which portfolios are riskier than the S&P 500\n"
   ]
  },
  {
   "cell_type": "markdown",
   "metadata": {},
   "source": [
    "### Calculate the Annualized Standard Deviation"
   ]
  },
  {
   "cell_type": "code",
   "execution_count": 22,
   "metadata": {},
   "outputs": [],
   "source": [
    "# Calculate the annualized standard deviation (252 trading days)\n"
   ]
  },
  {
   "cell_type": "markdown",
   "metadata": {},
   "source": [
    "---"
   ]
  },
  {
   "cell_type": "markdown",
   "metadata": {},
   "source": [
    "## Rolling Statistics\n",
    "\n",
    "Risk changes over time. Analyze the rolling statistics for Risk and Beta. \n",
    "\n",
    "1. Calculate and plot the rolling standard deviation for the S&P 500 using a 21-day window\n",
    "2. Calculate the correlation between each stock to determine which portfolios may mimick the S&P 500\n",
    "3. Choose one portfolio, then calculate and plot the 60-day rolling beta between it and the S&P 500"
   ]
  },
  {
   "cell_type": "markdown",
   "metadata": {},
   "source": [
    "### Calculate and plot rolling `std` for all portfolios with 21-day window"
   ]
  },
  {
   "cell_type": "code",
   "execution_count": 23,
   "metadata": {},
   "outputs": [],
   "source": [
    "# Calculate the rolling standard deviation for all portfolios using a 21-day window\n",
    "\n",
    "# Plot the rolling standard deviation\n"
   ]
  },
  {
   "cell_type": "markdown",
   "metadata": {},
   "source": [
    "### Calculate and plot the correlation"
   ]
  },
  {
   "cell_type": "code",
   "execution_count": 24,
   "metadata": {},
   "outputs": [],
   "source": [
    "# Calculate the correlation\n",
    "\n",
    "# Display de correlation matrix\n"
   ]
  },
  {
   "cell_type": "markdown",
   "metadata": {},
   "source": [
    "### Calculate and Plot Beta for a chosen portfolio and the S&P 500"
   ]
  },
  {
   "cell_type": "code",
   "execution_count": 25,
   "metadata": {},
   "outputs": [],
   "source": [
    "# Calculate covariance of a single portfolio\n",
    "\n",
    "# Calculate variance of S&P 500\n",
    "\n",
    "# Computing beta\n",
    "\n",
    "# Plot beta trend\n"
   ]
  },
  {
   "cell_type": "markdown",
   "metadata": {},
   "source": [
    "## Rolling Statistics Challenge: Exponentially Weighted Average \n",
    "\n",
    "An alternative way to calculate a rolling window is to take the exponentially weighted moving average. This is like a moving window average, but it assigns greater importance to more recent observations. Try calculating the [`ewm`](https://pandas.pydata.org/pandas-docs/stable/reference/api/pandas.DataFrame.ewm.html) with a 21-day half-life."
   ]
  },
  {
   "cell_type": "code",
   "execution_count": 26,
   "metadata": {},
   "outputs": [],
   "source": [
    "# Use `ewm` to calculate the rolling window\n"
   ]
  },
  {
   "cell_type": "markdown",
   "metadata": {},
   "source": [
    "---"
   ]
  },
  {
   "cell_type": "markdown",
   "metadata": {},
   "source": [
    "# Sharpe Ratios\n",
    "In reality, investment managers and thier institutional investors look at the ratio of return-to-risk, and not just returns alone. After all, if you could invest in one of two portfolios, and each offered the same 10% return, yet one offered lower risk, you'd take that one, right?\n",
    "\n",
    "### Using the daily returns, calculate and visualize the Sharpe ratios using a bar plot"
   ]
  },
  {
   "cell_type": "code",
   "execution_count": 27,
   "metadata": {},
   "outputs": [],
   "source": [
    "# Annualized Sharpe Ratios\n"
   ]
  },
  {
   "cell_type": "code",
   "execution_count": 28,
   "metadata": {},
   "outputs": [],
   "source": [
    "# Visualize the sharpe ratios as a bar plot\n"
   ]
  },
  {
   "cell_type": "markdown",
   "metadata": {},
   "source": [
    "### Determine whether the algorithmic strategies outperform both the market (S&P 500) and the whales portfolios.\n",
    "\n",
    "Write your answer here!"
   ]
  },
  {
   "cell_type": "markdown",
   "metadata": {},
   "source": [
    "---"
   ]
  },
  {
   "cell_type": "markdown",
   "metadata": {},
   "source": [
    "# Create Custom Portfolio\n",
    "\n",
    "In this section, you will build your own portfolio of stocks, calculate the returns, and compare the results to the Whale Portfolios and the S&P 500. \n",
    "\n",
    "1. Choose 3-5 custom stocks with at last 1 year's worth of historic prices and create a DataFrame of the closing prices and dates for each stock.\n",
    "2. Calculate the weighted returns for the portfolio assuming an equal number of shares for each stock\n",
    "3. Join your portfolio returns to the DataFrame that contains all of the portfolio returns\n",
    "4. Re-run the performance and risk analysis with your portfolio to see how it compares to the others\n",
    "5. Include correlation analysis to determine which stocks (if any) are correlated"
   ]
  },
  {
   "cell_type": "markdown",
   "metadata": {},
   "source": [
    "## Choose 3-5 custom stocks with at last 1 year's worth of historic prices and create a DataFrame of the closing prices and dates for each stock.\n",
    "\n",
    "For this demo solution, we fetch data from three companies listes in the S&P 500 index.\n",
    "\n",
    "* `GOOG` - [Google, LLC](https://en.wikipedia.org/wiki/Google)\n",
    "\n",
    "* `AAPL` - [Apple Inc.](https://en.wikipedia.org/wiki/Apple_Inc.)\n",
    "\n",
    "* `COST` - [Costco Wholesale Corporation](https://en.wikipedia.org/wiki/Costco)"
   ]
  },
  {
   "cell_type": "code",
   "execution_count": 29,
   "metadata": {},
   "outputs": [],
   "source": [
    "# Reading data from 1st stock\n"
   ]
  },
  {
   "cell_type": "code",
   "execution_count": 30,
   "metadata": {},
   "outputs": [],
   "source": [
    "# Reading data from 2nd stock\n"
   ]
  },
  {
   "cell_type": "code",
   "execution_count": 31,
   "metadata": {},
   "outputs": [],
   "source": [
    "# Reading data from 3rd stock\n"
   ]
  },
  {
   "cell_type": "code",
   "execution_count": 32,
   "metadata": {},
   "outputs": [],
   "source": [
    "# Combine all stocks in a single DataFrame\n"
   ]
  },
  {
   "cell_type": "code",
   "execution_count": 33,
   "metadata": {},
   "outputs": [],
   "source": [
    "# Reset Date index\n"
   ]
  },
  {
   "cell_type": "code",
   "execution_count": 34,
   "metadata": {},
   "outputs": [],
   "source": [
    "# Reorganize portfolio data by having a column per symbol\n"
   ]
  },
  {
   "cell_type": "code",
   "execution_count": 35,
   "metadata": {},
   "outputs": [],
   "source": [
    "# Calculate daily returns\n",
    "\n",
    "# Drop NAs\n",
    "\n",
    "# Display sample data\n"
   ]
  },
  {
   "cell_type": "markdown",
   "metadata": {},
   "source": [
    "## Calculate the weighted returns for the portfolio assuming an equal number of shares for each stock"
   ]
  },
  {
   "cell_type": "code",
   "execution_count": 36,
   "metadata": {},
   "outputs": [],
   "source": [
    "# Set weights\n",
    "weights = [1/3, 1/3, 1/3]\n",
    "\n",
    "# Calculate portfolio return\n",
    "\n",
    "# Display sample data\n"
   ]
  },
  {
   "cell_type": "markdown",
   "metadata": {},
   "source": [
    "## Join your portfolio returns to the DataFrame that contains all of the portfolio returns"
   ]
  },
  {
   "cell_type": "code",
   "execution_count": 37,
   "metadata": {},
   "outputs": [],
   "source": [
    "# Join your returns DataFrame to the original returns DataFrame\n"
   ]
  },
  {
   "cell_type": "code",
   "execution_count": 38,
   "metadata": {},
   "outputs": [],
   "source": [
    "# Only compare dates where return data exists for all the stocks (drop NaNs)\n"
   ]
  },
  {
   "cell_type": "markdown",
   "metadata": {},
   "source": [
    "## Re-run the risk analysis with your portfolio to see how it compares to the others"
   ]
  },
  {
   "cell_type": "markdown",
   "metadata": {},
   "source": [
    "### Calculate the Annualized Standard Deviation"
   ]
  },
  {
   "cell_type": "code",
   "execution_count": 39,
   "metadata": {},
   "outputs": [],
   "source": [
    "# Calculate the annualized `std`\n"
   ]
  },
  {
   "cell_type": "markdown",
   "metadata": {},
   "source": [
    "### Calculate and plot rolling `std` with 21-day window"
   ]
  },
  {
   "cell_type": "code",
   "execution_count": 40,
   "metadata": {},
   "outputs": [],
   "source": [
    "# Calculate rolling standard deviation\n",
    "\n",
    "# Plot rolling standard deviation\n"
   ]
  },
  {
   "cell_type": "markdown",
   "metadata": {},
   "source": [
    "### Calculate and plot the correlation"
   ]
  },
  {
   "cell_type": "code",
   "execution_count": 41,
   "metadata": {},
   "outputs": [],
   "source": [
    "# Calculate and plot the correlation\n"
   ]
  },
  {
   "cell_type": "markdown",
   "metadata": {},
   "source": [
    "### Calculate and Plot Rolling 60-day Beta for Your Portfolio compared to the S&P 500"
   ]
  },
  {
   "cell_type": "code",
   "execution_count": 42,
   "metadata": {},
   "outputs": [],
   "source": [
    "# Calculate and plot Beta\n"
   ]
  },
  {
   "cell_type": "markdown",
   "metadata": {},
   "source": [
    "### Using the daily returns, calculate and visualize the Sharpe ratios using a bar plot"
   ]
  },
  {
   "cell_type": "code",
   "execution_count": 43,
   "metadata": {},
   "outputs": [],
   "source": [
    "# Calculate Annualzied Sharpe Ratios\n"
   ]
  },
  {
   "cell_type": "code",
   "execution_count": 44,
   "metadata": {},
   "outputs": [],
   "source": [
    "# Visualize the sharpe ratios as a bar plot\n"
   ]
  },
  {
   "cell_type": "markdown",
   "metadata": {},
   "source": [
    "### How does your portfolio do?\n",
    "\n",
    "Write your answer here!"
   ]
  }
 ],
 "metadata": {
  "file_extension": ".py",
  "kernelspec": {
   "display_name": "Python 3",
   "language": "python",
   "name": "python3"
  },
  "language_info": {
   "codemirror_mode": {
    "name": "ipython",
    "version": 3
   },
   "file_extension": ".py",
   "mimetype": "text/x-python",
   "name": "python",
   "nbconvert_exporter": "python",
   "pygments_lexer": "ipython3",
   "version": "3.8.5"
  },
  "mimetype": "text/x-python",
  "name": "python",
  "npconvert_exporter": "python",
  "pygments_lexer": "ipython3",
  "version": 3
 },
 "nbformat": 4,
 "nbformat_minor": 4
}
