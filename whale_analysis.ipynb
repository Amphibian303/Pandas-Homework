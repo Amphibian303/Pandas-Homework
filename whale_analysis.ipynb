{
 "cells": [
  {
   "cell_type": "markdown",
   "metadata": {},
   "source": [
    " #  A Whale off the Port(folio)\n",
    " ---\n",
    "\n",
    " In this assignment, you'll get to use what you've learned this week to evaluate the performance among various algorithmic, hedge, and mutual fund portfolios and compare them against the S&P 500 Index."
   ]
  },
  {
   "cell_type": "code",
   "execution_count": 4,
   "metadata": {},
   "outputs": [],
   "source": [
    "# Initial imports\n",
    "import pandas as pd\n",
    "import numpy as np\n",
    "import datetime as dt\n",
    "from pathlib import Path\n",
    "\n",
    "%matplotlib inline"
   ]
  },
  {
   "cell_type": "markdown",
   "metadata": {},
   "source": [
    "# Data Cleaning\n",
    "\n",
    "In this section, you will need to read the CSV files into DataFrames and perform any necessary data cleaning steps. After cleaning, combine all DataFrames into a single DataFrame.\n",
    "\n",
    "Files:\n",
    "\n",
    "* `whale_returns.csv`: Contains returns of some famous \"whale\" investors' portfolios.\n",
    "\n",
    "* `algo_returns.csv`: Contains returns from the in-house trading algorithms from Harold's company.\n",
    "\n",
    "* `sp500_history.csv`: Contains historical closing prices of the S&P 500 Index."
   ]
  },
  {
   "cell_type": "markdown",
   "metadata": {},
   "source": [
    "## Whale Returns\n",
    "\n",
    "Read the Whale Portfolio daily returns and clean the data"
   ]
  },
  {
   "cell_type": "code",
   "execution_count": 5,
   "metadata": {},
   "outputs": [
    {
     "name": "stdout",
     "output_type": "stream",
     "text": [
      "Null values for Whale Returns:\n",
      "Soros_Fund           1\n",
      "Paulson_Fund         1\n",
      "Tiger_Global_Fund    1\n",
      "Berkshire_Fund       1\n",
      "dtype: int64\n"
     ]
    }
   ],
   "source": [
    "# Reading whale returns:\n",
    "\n",
    "whale_returns_data = Path(\"./Resources/whale_returns.csv\")\n",
    "\n",
    "whale_returns_df = pd.read_csv(whale_returns_data)\n",
    "\n",
    "# Setup collumns:\n",
    "\n",
    "whale_returns_df.columns = [\"Date\", \"Soros_Fund\", \"Paulson_Fund\", \"Tiger_Global_Fund\", \"Berkshire_Fund\"]\n",
    "\n",
    "# Set CSV to a dataframe:\n",
    "\n",
    "whale_returns_df.set_index(pd.to_datetime(whale_returns_df[\"Date\"], infer_datetime_format = True), inplace = True)\n",
    "\n",
    "# Drop dups and index the date column:\n",
    "\n",
    "whale_returns_df.drop(columns = [\"Date\"], inplace = True)\n",
    "\n",
    "# Check for nulls values\n",
    "\n",
    "print(f\"Null values for Whale Returns:\\n{whale_returns_df.isnull().sum()}\")"
   ]
  },
  {
   "cell_type": "code",
   "execution_count": 6,
   "metadata": {},
   "outputs": [
    {
     "name": "stdout",
     "output_type": "stream",
     "text": [
      "Dropped null values for Whale Returns:\n",
      "Soros_Fund           0\n",
      "Paulson_Fund         0\n",
      "Tiger_Global_Fund    0\n",
      "Berkshire_Fund       0\n",
      "dtype: int64\n"
     ]
    }
   ],
   "source": [
    "# Drop nulls values:\n",
    "\n",
    "whale_returns_df.dropna(inplace = True)\n",
    "print(f\"Dropped null values for Whale Returns:\\n{whale_returns_df.isnull().sum()}\")"
   ]
  },
  {
   "cell_type": "markdown",
   "metadata": {},
   "source": [
    "## Algorithmic Daily Returns\n",
    "\n",
    "Read the algorithmic daily returns and clean the data"
   ]
  },
  {
   "cell_type": "code",
   "execution_count": 7,
   "metadata": {},
   "outputs": [
    {
     "name": "stdout",
     "output_type": "stream",
     "text": [
      "Null values for Algo returns:\n",
      "Algo1    0\n",
      "Algo2    6\n",
      "dtype: int64\n"
     ]
    }
   ],
   "source": [
    "# Read in algorithmic returns:\n",
    "\n",
    "algo_returns_data = Path(\"./Resources/algo_returns.csv\")\n",
    "\n",
    "algo_returns_df = pd.read_csv(algo_returns_data)\n",
    "\n",
    "# Setup collumns:\n",
    "\n",
    "algo_returns_df.columns = ['Date', 'Algo1', 'Algo2',]\n",
    "\n",
    "# Setup index:\n",
    "\n",
    "algo_returns_df.set_index(pd.to_datetime(algo_returns_df[\"Date\"], infer_datetime_format = True), inplace = True)\n",
    "\n",
    "# Drop dups:\n",
    "\n",
    "algo_returns_df.drop(columns = [\"Date\"], inplace = True)\n",
    "\n",
    "# Check for nulls:\n",
    "\n",
    "print(f\"Null values for Algo returns:\\n{algo_returns_df.isnull().sum()}\")"
   ]
  },
  {
   "cell_type": "code",
   "execution_count": 8,
   "metadata": {},
   "outputs": [
    {
     "name": "stdout",
     "output_type": "stream",
     "text": [
      "Dropped null vales for Algo returns:\n",
      "Algo1    0\n",
      "Algo2    0\n",
      "dtype: int64\n"
     ]
    }
   ],
   "source": [
    "# Drop nulls values:\n",
    "\n",
    "algo_returns_df.dropna(inplace = True)\n",
    "print(f\"Dropped null vales for Algo returns:\\n{algo_returns_df.isnull().sum()}\")"
   ]
  },
  {
   "cell_type": "markdown",
   "metadata": {},
   "source": [
    "## S&P 500 Returns\n",
    "\n",
    "Read the S&P 500 historic closing prices and create a new daily returns DataFrame from the data. "
   ]
  },
  {
   "cell_type": "code",
   "execution_count": 15,
   "metadata": {},
   "outputs": [],
   "source": [
    "# Reading S&P 500 Closing Prices:\n",
    "\n",
    "sp500_history_data = Path(\"./Resources/sp500_history.csv\")\n",
    "\n",
    "sp500_history_df = pd.read_csv(sp500_history_data)"
   ]
  },
  {
   "cell_type": "code",
   "execution_count": 16,
   "metadata": {},
   "outputs": [
    {
     "name": "stdout",
     "output_type": "stream",
     "text": [
      "Date     object\n",
      "Close    object\n",
      "dtype: object\n",
      "\n"
     ]
    }
   ],
   "source": [
    "# Check Data Types:\n",
    "\n",
    "print(f\"{sp500_history_df.dtypes}\\n\")"
   ]
  },
  {
   "cell_type": "code",
   "execution_count": 17,
   "metadata": {},
   "outputs": [],
   "source": [
    "# Fix Data Types and set the column names:\n",
    "\n",
    "sp500_history_df.columns = [\"Date\", \"sp500\"]"
   ]
  },
  {
   "cell_type": "code",
   "execution_count": 18,
   "metadata": {},
   "outputs": [],
   "source": [
    "# Calculate Daily Returns:\n",
    "# Set index:\n",
    "\n",
    "sp500_history_df.set_index(pd.to_datetime(sp500_history_df[\"Date\"],infer_datetime_format = True), inplace = True)\n",
    "\n",
    "sp500_history_df.sort_index(inplace = True, ascending = True)\n",
    "\n",
    "sp500_history_df.drop(columns = [\"Date\"], inplace = True)"
   ]
  },
  {
   "cell_type": "code",
   "execution_count": 19,
   "metadata": {},
   "outputs": [
    {
     "name": "stdout",
     "output_type": "stream",
     "text": [
      "Null values for sp500    0\n",
      "dtype: int64\n",
      "Dropped null values for sp500    0\n",
      "dtype: int64\n"
     ]
    },
    {
     "data": {
      "text/html": [
       "<div>\n",
       "<style scoped>\n",
       "    .dataframe tbody tr th:only-of-type {\n",
       "        vertical-align: middle;\n",
       "    }\n",
       "\n",
       "    .dataframe tbody tr th {\n",
       "        vertical-align: top;\n",
       "    }\n",
       "\n",
       "    .dataframe thead th {\n",
       "        text-align: right;\n",
       "    }\n",
       "</style>\n",
       "<table border=\"1\" class=\"dataframe\">\n",
       "  <thead>\n",
       "    <tr style=\"text-align: right;\">\n",
       "      <th></th>\n",
       "      <th>sp500</th>\n",
       "    </tr>\n",
       "    <tr>\n",
       "      <th>Date</th>\n",
       "      <th></th>\n",
       "    </tr>\n",
       "  </thead>\n",
       "  <tbody>\n",
       "    <tr>\n",
       "      <th>2012-10-01</th>\n",
       "      <td>$1444.49</td>\n",
       "    </tr>\n",
       "    <tr>\n",
       "      <th>2012-10-02</th>\n",
       "      <td>$1445.75</td>\n",
       "    </tr>\n",
       "    <tr>\n",
       "      <th>2012-10-03</th>\n",
       "      <td>$1450.99</td>\n",
       "    </tr>\n",
       "    <tr>\n",
       "      <th>2012-10-04</th>\n",
       "      <td>$1461.40</td>\n",
       "    </tr>\n",
       "    <tr>\n",
       "      <th>2012-10-05</th>\n",
       "      <td>$1460.93</td>\n",
       "    </tr>\n",
       "  </tbody>\n",
       "</table>\n",
       "</div>"
      ],
      "text/plain": [
       "               sp500\n",
       "Date                \n",
       "2012-10-01  $1444.49\n",
       "2012-10-02  $1445.75\n",
       "2012-10-03  $1450.99\n",
       "2012-10-04  $1461.40\n",
       "2012-10-05  $1460.93"
      ]
     },
     "execution_count": 19,
     "metadata": {},
     "output_type": "execute_result"
    }
   ],
   "source": [
    "# Check / Drop nulls\n",
    "\n",
    "print(f\"Null values for {sp500_history_df.isnull().sum()}\")\n",
    "\n",
    "sp500_history_df.dropna(inplace = True)\n",
    "\n",
    "print(f\"Dropped null values for {sp500_history_df.isnull().sum()}\")\n",
    "\n",
    "sp500_history_df.head()"
   ]
  },
  {
   "cell_type": "code",
   "execution_count": 20,
   "metadata": {},
   "outputs": [
    {
     "name": "stdout",
     "output_type": "stream",
     "text": [
      "               sp500\n",
      "Date                \n",
      "2019-04-16  $2907.06\n",
      "2019-04-17  $2900.45\n",
      "2019-04-18  $2905.03\n",
      "2019-04-22  $2907.97\n",
      "2019-04-23  $2933.68\n",
      "              sp500\n",
      "Date               \n",
      "2019-04-16  2907.06\n",
      "2019-04-17  2900.45\n",
      "2019-04-18  2905.03\n",
      "2019-04-22  2907.97\n",
      "2019-04-23  2933.68\n"
     ]
    }
   ],
   "source": [
    "# Rename `Close` Column to be specific to this portfolio.\n",
    "\n",
    "print(sp500_history_df.tail())\n",
    "\n",
    "# Show / Remove $ sign:\n",
    "\n",
    "def remove_dollar_sign(sign):\n",
    "    if isinstance(sign, str):\n",
    "        return(sign.replace(\"$\", \" \"))\n",
    "    return(sign)\n",
    "\n",
    "sp500_history_df[\"sp500\"] = sp500_history_df[\"sp500\"].apply(remove_dollar_sign).astype(\"float\")\n",
    "\n",
    "print(sp500_history_df.tail())"
   ]
  },
  {
   "cell_type": "markdown",
   "metadata": {},
   "source": [
    "## Combine Whale, Algorithmic, and S&P 500 Returns"
   ]
  },
  {
   "cell_type": "code",
   "execution_count": 16,
   "metadata": {},
   "outputs": [],
   "source": [
    "# Join Whale Returns, Algorithmic Returns, and the S&P 500 Returns into a single DataFrame with columns for each portfolio's returns.\n",
    "\n",
    "combined_returns_df = pd.concat([sp_returns_df, whale_returns_df, algo_returns_df], axis = \"Columns\", join)\n",
    "\n",
    "combined_returns_df.head()\n"
   ]
  },
  {
   "cell_type": "markdown",
   "metadata": {},
   "source": [
    "---"
   ]
  },
  {
   "cell_type": "markdown",
   "metadata": {},
   "source": [
    "# Conduct Quantitative Analysis\n",
    "\n",
    "In this section, you will calculate and visualize performance and risk metrics for the portfolios."
   ]
  },
  {
   "cell_type": "markdown",
   "metadata": {},
   "source": [
    "## Performance Anlysis\n",
    "\n",
    "#### Calculate and Plot the daily returns."
   ]
  },
  {
   "cell_type": "code",
   "execution_count": 21,
   "metadata": {},
   "outputs": [
    {
     "ename": "NameError",
     "evalue": "name 'combined_returns_df' is not defined",
     "output_type": "error",
     "traceback": [
      "\u001b[1;31m---------------------------------------------------------------------------\u001b[0m",
      "\u001b[1;31mNameError\u001b[0m                                 Traceback (most recent call last)",
      "\u001b[1;32m<ipython-input-21-4ec39bc01085>\u001b[0m in \u001b[0;36m<module>\u001b[1;34m\u001b[0m\n\u001b[0;32m      1\u001b[0m \u001b[1;31m# Plot daily returns of all portfolios\u001b[0m\u001b[1;33m\u001b[0m\u001b[1;33m\u001b[0m\u001b[1;33m\u001b[0m\u001b[0m\n\u001b[0;32m      2\u001b[0m \u001b[1;33m\u001b[0m\u001b[0m\n\u001b[1;32m----> 3\u001b[1;33m \u001b[0mcombined_returns_df\u001b[0m\u001b[1;33m.\u001b[0m\u001b[0mplot\u001b[0m\u001b[1;33m(\u001b[0m\u001b[0mxlabel\u001b[0m \u001b[1;33m=\u001b[0m \u001b[1;34m\"Date\"\u001b[0m\u001b[1;33m,\u001b[0m \u001b[0mylable\u001b[0m \u001b[1;33m=\u001b[0m \u001b[1;34m\"Daily Returns\"\u001b[0m\u001b[1;33m,\u001b[0m \u001b[0mtitle\u001b[0m \u001b[1;33m=\u001b[0m \u001b[1;34m\"Daily Returns for Whales, Algo, S&P 500\"\u001b[0m\u001b[1;33m)\u001b[0m\u001b[1;33m\u001b[0m\u001b[1;33m\u001b[0m\u001b[0m\n\u001b[0m",
      "\u001b[1;31mNameError\u001b[0m: name 'combined_returns_df' is not defined"
     ]
    }
   ],
   "source": [
    "# Plot daily returns of all portfolios\n",
    "\n",
    "combined_returns_df.plot(xlabel = \"Date\", ylable = \"Daily Returns\", title = \"Daily Returns for Whales, Algo, S&P 500\")"
   ]
  },
  {
   "cell_type": "markdown",
   "metadata": {},
   "source": [
    "#### Calculate and Plot cumulative returns."
   ]
  },
  {
   "cell_type": "code",
   "execution_count": 22,
   "metadata": {},
   "outputs": [
    {
     "ename": "NameError",
     "evalue": "name 'combined_returns_df' is not defined",
     "output_type": "error",
     "traceback": [
      "\u001b[1;31m---------------------------------------------------------------------------\u001b[0m",
      "\u001b[1;31mNameError\u001b[0m                                 Traceback (most recent call last)",
      "\u001b[1;32m<ipython-input-22-0dd6c25eff46>\u001b[0m in \u001b[0;36m<module>\u001b[1;34m\u001b[0m\n\u001b[0;32m      1\u001b[0m \u001b[1;31m# Calculate cumulative returns of all portfolios\u001b[0m\u001b[1;33m\u001b[0m\u001b[1;33m\u001b[0m\u001b[1;33m\u001b[0m\u001b[0m\n\u001b[0;32m      2\u001b[0m \u001b[1;33m\u001b[0m\u001b[0m\n\u001b[1;32m----> 3\u001b[1;33m \u001b[0mcumulative_returns_df\u001b[0m \u001b[1;33m=\u001b[0m \u001b[1;33m(\u001b[0m\u001b[1;36m1\u001b[0m \u001b[1;33m+\u001b[0m \u001b[0mcombined_returns_df\u001b[0m\u001b[1;33m)\u001b[0m\u001b[1;33m.\u001b[0m\u001b[0mcumprod\u001b[0m\u001b[1;33m(\u001b[0m\u001b[1;33m)\u001b[0m\u001b[1;33m\u001b[0m\u001b[1;33m\u001b[0m\u001b[0m\n\u001b[0m\u001b[0;32m      4\u001b[0m \u001b[1;33m\u001b[0m\u001b[0m\n\u001b[0;32m      5\u001b[0m \u001b[1;31m# Plot cumulative returns\u001b[0m\u001b[1;33m\u001b[0m\u001b[1;33m\u001b[0m\u001b[1;33m\u001b[0m\u001b[0m\n",
      "\u001b[1;31mNameError\u001b[0m: name 'combined_returns_df' is not defined"
     ]
    }
   ],
   "source": [
    "# Calculate cumulative returns of all portfolios\n",
    "\n",
    "cumulative_returns_df = (1 + combined_returns_df).cumprod()\n",
    "\n",
    "# Plot cumulative returns\n",
    "\n",
    "cumlative_returns_df.plot(xlabel = \"Date\", ylabel = \"Cumlative Returns\", title = \"Cumlative Returns for Whales, Algo, S&P 500\")"
   ]
  },
  {
   "cell_type": "markdown",
   "metadata": {},
   "source": [
    "---"
   ]
  },
  {
   "cell_type": "markdown",
   "metadata": {},
   "source": [
    "## Risk Analysis\n",
    "\n",
    "Determine the _risk_ of each portfolio:\n",
    "\n",
    "1. Create a box plot for each portfolio. \n",
    "2. Calculate the standard deviation for all portfolios\n",
    "4. Determine which portfolios are riskier than the S&P 500\n",
    "5. Calculate the Annualized Standard Deviation"
   ]
  },
  {
   "cell_type": "markdown",
   "metadata": {},
   "source": [
    "### Create a box plot for each portfolio\n"
   ]
  },
  {
   "cell_type": "code",
   "execution_count": 23,
   "metadata": {},
   "outputs": [
    {
     "ename": "SyntaxError",
     "evalue": "invalid syntax (<ipython-input-23-68d101fed2c7>, line 3)",
     "output_type": "error",
     "traceback": [
      "\u001b[1;36m  File \u001b[1;32m\"<ipython-input-23-68d101fed2c7>\"\u001b[1;36m, line \u001b[1;32m3\u001b[0m\n\u001b[1;33m    boxplot = cumulative_returns_df.boxplot(column = [\"SP500\", \"Soros_Fund\", \"Paulson_Fund\", \"Tiger_Golbal\", \"Berkshire\", \"Algo1\", \"Algo2\"] rot = 76, fonfize = 9)\u001b[0m\n\u001b[1;37m                                                                                                                                            ^\u001b[0m\n\u001b[1;31mSyntaxError\u001b[0m\u001b[1;31m:\u001b[0m invalid syntax\n"
     ]
    }
   ],
   "source": [
    "# Box plot to visually show risk\n",
    "\n",
    "boxplot = cumulative_returns_df.boxplot(column = [\"SP500\", \"Soros_Fund\", \"Paulson_Fund\", \"Tiger_Golbal\", \"Berkshire\", \"Algo1\", \"Algo2\"] rot = 76, fonfize = 9)"
   ]
  },
  {
   "cell_type": "markdown",
   "metadata": {},
   "source": [
    "### Calculate Standard Deviations"
   ]
  },
  {
   "cell_type": "code",
   "execution_count": 20,
   "metadata": {},
   "outputs": [],
   "source": [
    "# Calculate the daily standard deviations of all portfolios\n",
    "\n",
    "volatility = cumlative_returns_df.std()"
   ]
  },
  {
   "cell_type": "markdown",
   "metadata": {},
   "source": [
    "### Determine which portfolios are riskier than the S&P 500"
   ]
  },
  {
   "cell_type": "code",
   "execution_count": 21,
   "metadata": {},
   "outputs": [],
   "source": [
    "# Calculate  the daily standard deviation of S&P 500\n",
    "\n",
    "volatility_sp500 = volatility[0]\n",
    "\n",
    "volatility_soros_fund = volatility[1]\n",
    "\n",
    "volatility_paulson_fund = volatility[2]\n",
    "\n",
    "volatility_tiger_global = volatility[3]\n",
    "\n",
    "volatility_berkshaire_fund = volatility[4]\n",
    "\n",
    "volatility_algo_1 = volatility[5]\n",
    "\n",
    "volatility_algo_2 = volatility[6]\n",
    "\n",
    "# print funds\n",
    "\n",
    "print(f\"Volatility of S&P500: {volatility_sp500}\")\n",
    "print(f\"Volatility of Soros Fund: {volatility_soros_fund}\")\n",
    "print(f\"Volatility of Paulson Fund: {volatility_paulson_fund}\")\n",
    "print(f\"Volatility of Tiger Global: {volatility_tiger_global}\")\n",
    "print(f\"Volatility of Berkshire Hathaway: {volatility_berkshaire_fund}\")\n",
    "print(f\"Volatility of Algo 1: {volatility_algo_1}\")\n",
    "print(f\"Volatility of Algo 2: {volatility_algo_2}\")\n",
    "\n",
    "\n",
    "# Determine which portfolios are riskier than the S&P 500\n",
    "\n",
    "print(f\"The most volatile funds are: Tiger Golbal, Berkshire Hathaway, Algo 1\")"
   ]
  },
  {
   "cell_type": "markdown",
   "metadata": {},
   "source": [
    "### Calculate the Annualized Standard Deviation"
   ]
  },
  {
   "cell_type": "code",
   "execution_count": 22,
   "metadata": {},
   "outputs": [],
   "source": [
    "# Calculate the annualized standard deviation (252 trading days)\n",
    "\n",
    "volatility_annual = cumlative_returns_df.std() * np.sqrt(252)\n",
    "\n",
    "\n",
    "volatility_annual_sp500 = volatility_annual[0]\n",
    "\n",
    "volatility_annual_soros_fund = volatility_annual[1]\n",
    "\n",
    "volatility_annual_paulson_fund = volatility_annual[2]\n",
    "\n",
    "volatility_annual_tiger_global = volatility_annual[3]\n",
    "\n",
    "volatility_annual_berkshaire_fund = volatility_annual[4]\n",
    "\n",
    "volatility_annual_algo_1 = volatility_annual[5]\n",
    "\n",
    "volatility_annual_algo_2 = volatility_annual[6]\n",
    "\n",
    "# print funds\n",
    "\n",
    "print(f\"Volatility of S&P500: {volatility_annual_sp500}\")\n",
    "print(f\"Volatility of Soros Fund: {volatility_annual_soros_fund}\")\n",
    "print(f\"Volatility of Paulson Fund: {volatility_annual_paulson_fund}\")\n",
    "print(f\"Volatility of Tiger Global: {volatility_annual_tiger_global}\")\n",
    "print(f\"Volatility of Berkshire Hathaway: {volatility_annual_berkshaire_fund}\")\n",
    "print(f\"Volatility of Algo 1: {volatility_annual_algo_1}\")\n",
    "print(f\"Volatility of Algo 2: {volatility_annual_algo_2}\")"
   ]
  },
  {
   "cell_type": "markdown",
   "metadata": {},
   "source": [
    "---"
   ]
  },
  {
   "cell_type": "markdown",
   "metadata": {},
   "source": [
    "## Rolling Statistics\n",
    "\n",
    "Risk changes over time. Analyze the rolling statistics for Risk and Beta. \n",
    "\n",
    "1. Calculate and plot the rolling standard deviation for the S&P 500 using a 21-day window\n",
    "2. Calculate the correlation between each stock to determine which portfolios may mimick the S&P 500\n",
    "3. Choose one portfolio, then calculate and plot the 60-day rolling beta between it and the S&P 500"
   ]
  },
  {
   "cell_type": "markdown",
   "metadata": {},
   "source": [
    "### Calculate and plot rolling `std` for all portfolios with 21-day window"
   ]
  },
  {
   "cell_type": "code",
   "execution_count": 23,
   "metadata": {},
   "outputs": [],
   "source": [
    "# Calculate the rolling standard deviation for all portfolios using a 21-day window\n",
    "cumulative_returns_df.rolling(window = 21).std().plot(xlabel = \"Date\", ylabel = \"21 Day Rolling STD\", title = \"21 Day Rolling STD for Whales, Algo, SP500\")\n",
    "\n",
    "# Plot the rolling standard deviation\n"
   ]
  },
  {
   "cell_type": "markdown",
   "metadata": {},
   "source": [
    "### Calculate and plot the correlation"
   ]
  },
  {
   "cell_type": "code",
   "execution_count": 24,
   "metadata": {},
   "outputs": [],
   "source": [
    "# Calculate the correlation\n",
    "\n",
    "correlation = daily_returns.corr()\n",
    "\n",
    "# Display the correlation matrix\n",
    "\n",
    "correlation"
   ]
  },
  {
   "cell_type": "markdown",
   "metadata": {},
   "source": [
    "### Calculate and Plot Beta for a chosen portfolio and the S&P 500"
   ]
  },
  {
   "cell_type": "code",
   "execution_count": 25,
   "metadata": {},
   "outputs": [
    {
     "ename": "NameError",
     "evalue": "name 'daily_returns' is not defined",
     "output_type": "error",
     "traceback": [
      "\u001b[1;31m---------------------------------------------------------------------------\u001b[0m",
      "\u001b[1;31mNameError\u001b[0m                                 Traceback (most recent call last)",
      "\u001b[1;32m<ipython-input-25-f3a2eb40158c>\u001b[0m in \u001b[0;36m<module>\u001b[1;34m\u001b[0m\n\u001b[0;32m      1\u001b[0m \u001b[1;31m# Calculate covariance of a single portfolio\u001b[0m\u001b[1;33m\u001b[0m\u001b[1;33m\u001b[0m\u001b[1;33m\u001b[0m\u001b[0m\n\u001b[0;32m      2\u001b[0m \u001b[1;33m\u001b[0m\u001b[0m\n\u001b[1;32m----> 3\u001b[1;33m \u001b[0mcoveriance_soros_fund\u001b[0m \u001b[1;33m=\u001b[0m \u001b[0mdaily_returns\u001b[0m\u001b[1;33m[\u001b[0m\u001b[1;34m\"soros_fund\"\u001b[0m\u001b[1;33m]\u001b[0m\u001b[1;33m.\u001b[0m\u001b[0mcov\u001b[0m\u001b[1;33m(\u001b[0m\u001b[0mdaily_returns\u001b[0m\u001b[1;33m[\u001b[0m\u001b[1;34m\"Soros Fund\"\u001b[0m\u001b[1;33m]\u001b[0m\u001b[1;33m)\u001b[0m\u001b[1;33m\u001b[0m\u001b[1;33m\u001b[0m\u001b[0m\n\u001b[0m\u001b[0;32m      4\u001b[0m \u001b[0mcoveriance_paulson_fund\u001b[0m \u001b[1;33m=\u001b[0m \u001b[0mdaily_returns\u001b[0m\u001b[1;33m[\u001b[0m\u001b[1;34m\"paulson_fund\"\u001b[0m\u001b[1;33m]\u001b[0m\u001b[1;33m.\u001b[0m\u001b[0mcov\u001b[0m\u001b[1;33m(\u001b[0m\u001b[0mdaily_returns\u001b[0m\u001b[1;33m[\u001b[0m\u001b[1;34m\"Paulson Fund\"\u001b[0m\u001b[1;33m]\u001b[0m\u001b[1;33m)\u001b[0m\u001b[1;33m\u001b[0m\u001b[1;33m\u001b[0m\u001b[0m\n\u001b[0;32m      5\u001b[0m \u001b[0mcoveriance_tiger_global\u001b[0m \u001b[1;33m=\u001b[0m \u001b[0mdaily_returns\u001b[0m\u001b[1;33m[\u001b[0m\u001b[1;34m\"tiger_global\"\u001b[0m\u001b[1;33m]\u001b[0m\u001b[1;33m.\u001b[0m\u001b[0mcov\u001b[0m\u001b[1;33m(\u001b[0m\u001b[0mdaily_returns\u001b[0m\u001b[1;33m[\u001b[0m\u001b[1;34m\"Tiger Global\"\u001b[0m\u001b[1;33m]\u001b[0m\u001b[1;33m)\u001b[0m\u001b[1;33m\u001b[0m\u001b[1;33m\u001b[0m\u001b[0m\n",
      "\u001b[1;31mNameError\u001b[0m: name 'daily_returns' is not defined"
     ]
    }
   ],
   "source": [
    "# Calculate covariance of a single portfolio\n",
    "\n",
    "coveriance_soros_fund = cumulative_returns_df[\"soros_fund\"].cov(cumulative_returns_df[\"Soros Fund\"])\n",
    "coveriance_paulson_fund = cumulative_returns_df[\"paulson_fund\"].cov(cumulative_returns_df[\"Paulson Fund\"])\n",
    "coveriance_tiger_global = cumulative_returns_df[\"tiger_global\"].cov(cumulative_returns_df[\"Tiger Global\"])\n",
    "coveriance_berkshire_fund = cumulative_returns_df[\"berkshire_fund\"].cov(cumulative_returns_df[\"Berkshire Hathaway\"])\n",
    "coveriance_algo_1 = cumulative_returns_df[\"algo1\"].cov(cumulative_returns_df[\"ALGO1\"])\n",
    "coveriance_algo_2 = cumulative_returns_df[\"algo2\"].cov(cumulative_returns_df[\"ALGO2\"])\n",
    "\n",
    "print(f\"Coveriance for Soros Fund: {coveriance_soros_fund}\")\n",
    "print(f\"Coveriance for Paulson Fund: {coveriance_paulson_fund}\")\n",
    "print(f\"Coveriance for Tiger Global: {coveriance_tiger_global}\")\n",
    "print(f\"Coveriance for Berkshire Hathaway: {coveriance_berkshire_fund}\")\n",
    "print(f\"Coveriance for Algo 1: {coveriance_algo_1}\")\n",
    "print(f\"Coveriance for Algo 2: {coveriance_algo_2}\")\n",
    "\n",
    "# Calculate variance of S&P 500\n",
    "variance = cumulative_returns_df[\"SP500\"].var()\n",
    "\n",
    "print(f\"Covariance of SP500: {variance}\")\n",
    "\n",
    "# Computing beta\n",
    "\n",
    "soros_fund_beta = covariance_soros_fund / variance\n",
    "paulson_fund_beta = covariance_paulson_fund / variance\n",
    "tiger_global_beta = covariance_tiger_fund / variance\n",
    "soros_fund_beta = covariance_s_fund / variance\n",
    "soros_fund_beta = covariance_soros_fund / variance\n",
    "soros_fund_beta = covariance_soros_fund / variance\n",
    "\n",
    "# Plot beta trend\n"
   ]
  },
  {
   "cell_type": "markdown",
   "metadata": {},
   "source": [
    "## Rolling Statistics Challenge: Exponentially Weighted Average \n",
    "\n",
    "An alternative way to calculate a rolling window is to take the exponentially weighted moving average. This is like a moving window average, but it assigns greater importance to more recent observations. Try calculating the [`ewm`](https://pandas.pydata.org/pandas-docs/stable/reference/api/pandas.DataFrame.ewm.html) with a 21-day half-life."
   ]
  },
  {
   "cell_type": "code",
   "execution_count": 26,
   "metadata": {},
   "outputs": [],
   "source": [
    "# Use `ewm` to calculate the rolling window\n"
   ]
  },
  {
   "cell_type": "markdown",
   "metadata": {},
   "source": [
    "---"
   ]
  },
  {
   "cell_type": "markdown",
   "metadata": {},
   "source": [
    "# Sharpe Ratios\n",
    "In reality, investment managers and thier institutional investors look at the ratio of return-to-risk, and not just returns alone. After all, if you could invest in one of two portfolios, and each offered the same 10% return, yet one offered lower risk, you'd take that one, right?\n",
    "\n",
    "### Using the daily returns, calculate and visualize the Sharpe ratios using a bar plot"
   ]
  },
  {
   "cell_type": "code",
   "execution_count": 27,
   "metadata": {},
   "outputs": [],
   "source": [
    "# Annualized Sharpe Ratios\n"
   ]
  },
  {
   "cell_type": "code",
   "execution_count": 28,
   "metadata": {},
   "outputs": [],
   "source": [
    "# Visualize the sharpe ratios as a bar plot\n"
   ]
  },
  {
   "cell_type": "markdown",
   "metadata": {},
   "source": [
    "### Determine whether the algorithmic strategies outperform both the market (S&P 500) and the whales portfolios.\n",
    "\n",
    "Write your answer here!"
   ]
  },
  {
   "cell_type": "markdown",
   "metadata": {},
   "source": [
    "---"
   ]
  },
  {
   "cell_type": "markdown",
   "metadata": {},
   "source": [
    "# Create Custom Portfolio\n",
    "\n",
    "In this section, you will build your own portfolio of stocks, calculate the returns, and compare the results to the Whale Portfolios and the S&P 500. \n",
    "\n",
    "1. Choose 3-5 custom stocks with at last 1 year's worth of historic prices and create a DataFrame of the closing prices and dates for each stock.\n",
    "2. Calculate the weighted returns for the portfolio assuming an equal number of shares for each stock\n",
    "3. Join your portfolio returns to the DataFrame that contains all of the portfolio returns\n",
    "4. Re-run the performance and risk analysis with your portfolio to see how it compares to the others\n",
    "5. Include correlation analysis to determine which stocks (if any) are correlated"
   ]
  },
  {
   "cell_type": "markdown",
   "metadata": {},
   "source": [
    "## Choose 3-5 custom stocks with at last 1 year's worth of historic prices and create a DataFrame of the closing prices and dates for each stock.\n",
    "\n",
    "For this demo solution, we fetch data from three companies listes in the S&P 500 index.\n",
    "\n",
    "* `GOOG` - [Google, LLC](https://en.wikipedia.org/wiki/Google)\n",
    "\n",
    "* `AAPL` - [Apple Inc.](https://en.wikipedia.org/wiki/Apple_Inc.)\n",
    "\n",
    "* `COST` - [Costco Wholesale Corporation](https://en.wikipedia.org/wiki/Costco)"
   ]
  },
  {
   "cell_type": "code",
   "execution_count": 29,
   "metadata": {},
   "outputs": [],
   "source": [
    "# Reading data from 1st stock\n"
   ]
  },
  {
   "cell_type": "code",
   "execution_count": 30,
   "metadata": {},
   "outputs": [],
   "source": [
    "# Reading data from 2nd stock\n"
   ]
  },
  {
   "cell_type": "code",
   "execution_count": 31,
   "metadata": {},
   "outputs": [],
   "source": [
    "# Reading data from 3rd stock\n"
   ]
  },
  {
   "cell_type": "code",
   "execution_count": 32,
   "metadata": {},
   "outputs": [],
   "source": [
    "# Combine all stocks in a single DataFrame\n"
   ]
  },
  {
   "cell_type": "code",
   "execution_count": 33,
   "metadata": {},
   "outputs": [],
   "source": [
    "# Reset Date index\n"
   ]
  },
  {
   "cell_type": "code",
   "execution_count": 34,
   "metadata": {},
   "outputs": [],
   "source": [
    "# Reorganize portfolio data by having a column per symbol\n"
   ]
  },
  {
   "cell_type": "code",
   "execution_count": 35,
   "metadata": {},
   "outputs": [],
   "source": [
    "# Calculate daily returns\n",
    "\n",
    "# Drop NAs\n",
    "\n",
    "# Display sample data\n"
   ]
  },
  {
   "cell_type": "markdown",
   "metadata": {},
   "source": [
    "## Calculate the weighted returns for the portfolio assuming an equal number of shares for each stock"
   ]
  },
  {
   "cell_type": "code",
   "execution_count": 36,
   "metadata": {},
   "outputs": [],
   "source": [
    "# Set weights\n",
    "weights = [1/3, 1/3, 1/3]\n",
    "\n",
    "# Calculate portfolio return\n",
    "\n",
    "# Display sample data\n"
   ]
  },
  {
   "cell_type": "markdown",
   "metadata": {},
   "source": [
    "## Join your portfolio returns to the DataFrame that contains all of the portfolio returns"
   ]
  },
  {
   "cell_type": "code",
   "execution_count": 37,
   "metadata": {},
   "outputs": [],
   "source": [
    "# Join your returns DataFrame to the original returns DataFrame\n"
   ]
  },
  {
   "cell_type": "code",
   "execution_count": 38,
   "metadata": {},
   "outputs": [],
   "source": [
    "# Only compare dates where return data exists for all the stocks (drop NaNs)\n"
   ]
  },
  {
   "cell_type": "markdown",
   "metadata": {},
   "source": [
    "## Re-run the risk analysis with your portfolio to see how it compares to the others"
   ]
  },
  {
   "cell_type": "markdown",
   "metadata": {},
   "source": [
    "### Calculate the Annualized Standard Deviation"
   ]
  },
  {
   "cell_type": "code",
   "execution_count": 39,
   "metadata": {},
   "outputs": [],
   "source": [
    "# Calculate the annualized `std`\n"
   ]
  },
  {
   "cell_type": "markdown",
   "metadata": {},
   "source": [
    "### Calculate and plot rolling `std` with 21-day window"
   ]
  },
  {
   "cell_type": "code",
   "execution_count": 40,
   "metadata": {},
   "outputs": [],
   "source": [
    "# Calculate rolling standard deviation\n",
    "\n",
    "# Plot rolling standard deviation\n"
   ]
  },
  {
   "cell_type": "markdown",
   "metadata": {},
   "source": [
    "### Calculate and plot the correlation"
   ]
  },
  {
   "cell_type": "code",
   "execution_count": 41,
   "metadata": {},
   "outputs": [],
   "source": [
    "# Calculate and plot the correlation\n"
   ]
  },
  {
   "cell_type": "markdown",
   "metadata": {},
   "source": [
    "### Calculate and Plot Rolling 60-day Beta for Your Portfolio compared to the S&P 500"
   ]
  },
  {
   "cell_type": "code",
   "execution_count": 42,
   "metadata": {},
   "outputs": [],
   "source": [
    "# Calculate and plot Beta\n"
   ]
  },
  {
   "cell_type": "markdown",
   "metadata": {},
   "source": [
    "### Using the daily returns, calculate and visualize the Sharpe ratios using a bar plot"
   ]
  },
  {
   "cell_type": "code",
   "execution_count": 43,
   "metadata": {},
   "outputs": [],
   "source": [
    "# Calculate Annualzied Sharpe Ratios\n"
   ]
  },
  {
   "cell_type": "code",
   "execution_count": 44,
   "metadata": {},
   "outputs": [],
   "source": [
    "# Visualize the sharpe ratios as a bar plot\n"
   ]
  },
  {
   "cell_type": "markdown",
   "metadata": {},
   "source": [
    "### How does your portfolio do?\n",
    "\n",
    "Write your answer here!"
   ]
  }
 ],
 "metadata": {
  "file_extension": ".py",
  "kernelspec": {
   "display_name": "Python 3",
   "language": "python",
   "name": "python3"
  },
  "language_info": {
   "codemirror_mode": {
    "name": "ipython",
    "version": 3
   },
   "file_extension": ".py",
   "mimetype": "text/x-python",
   "name": "python",
   "nbconvert_exporter": "python",
   "pygments_lexer": "ipython3",
   "version": "3.8.5"
  },
  "mimetype": "text/x-python",
  "name": "python",
  "npconvert_exporter": "python",
  "pygments_lexer": "ipython3",
  "version": 3
 },
 "nbformat": 4,
 "nbformat_minor": 4
}
