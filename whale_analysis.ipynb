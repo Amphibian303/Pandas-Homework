{
 "cells": [
  {
   "cell_type": "markdown",
   "metadata": {},
   "source": [
    " #  A Whale off the Port(folio)\n",
    " ---\n",
    "\n",
    " In this assignment, you'll get to use what you've learned this week to evaluate the performance among various algorithmic, hedge, and mutual fund portfolios and compare them against the S&P 500 Index."
   ]
  },
  {
   "cell_type": "code",
   "execution_count": 1,
   "metadata": {},
   "outputs": [],
   "source": [
    "# Initial imports\n",
    "import pandas as pd\n",
    "import numpy as np\n",
    "import datetime as dt\n",
    "from pathlib import Path\n",
    "\n",
    "%matplotlib inline"
   ]
  },
  {
   "cell_type": "markdown",
   "metadata": {},
   "source": [
    "# Data Cleaning\n",
    "\n",
    "In this section, you will need to read the CSV files into DataFrames and perform any necessary data cleaning steps. After cleaning, combine all DataFrames into a single DataFrame.\n",
    "\n",
    "Files:\n",
    "\n",
    "* `whale_returns.csv`: Contains returns of some famous \"whale\" investors' portfolios.\n",
    "\n",
    "* `algo_returns.csv`: Contains returns from the in-house trading algorithms from Harold's company.\n",
    "\n",
    "* `sp500_history.csv`: Contains historical closing prices of the S&P 500 Index."
   ]
  },
  {
   "cell_type": "markdown",
   "metadata": {},
   "source": [
    "## Whale Returns\n",
    "\n",
    "Read the Whale Portfolio daily returns and clean the data"
   ]
  },
  {
   "cell_type": "code",
   "execution_count": 2,
   "metadata": {},
   "outputs": [
    {
     "name": "stdout",
     "output_type": "stream",
     "text": [
      "Null values for Whale Returns:\n",
      "Soros_Fund           1\n",
      "Paulson_Fund         1\n",
      "Tiger_Global_Fund    1\n",
      "Berkshire_Fund       1\n",
      "dtype: int64\n"
     ]
    }
   ],
   "source": [
    "# Reading whale returns:\n",
    "\n",
    "whale_returns_data = Path(\"./Resources/whale_returns.csv\")\n",
    "\n",
    "whale_returns_df = pd.read_csv(whale_returns_data)\n",
    "\n",
    "# Setup collumns:\n",
    "\n",
    "whale_returns_df.columns = [\"Date\", \"Soros_Fund\", \"Paulson_Fund\", \"Tiger_Global_Fund\", \"Berkshire_Fund\"]\n",
    "\n",
    "# Set CSV to a dataframe:\n",
    "\n",
    "whale_returns_df.set_index(pd.to_datetime(whale_returns_df[\"Date\"], infer_datetime_format = True), inplace = True)\n",
    "\n",
    "# Drop dups and index the date column:\n",
    "\n",
    "whale_returns_df.drop(columns = [\"Date\"], inplace = True)\n",
    "\n",
    "# Check for nulls values\n",
    "\n",
    "print(f\"Null values for Whale Returns:\\n{whale_returns_df.isnull().sum()}\")"
   ]
  },
  {
   "cell_type": "code",
   "execution_count": 3,
   "metadata": {},
   "outputs": [
    {
     "name": "stdout",
     "output_type": "stream",
     "text": [
      "Dropped null values for Whale Returns:\n",
      "Soros_Fund           0\n",
      "Paulson_Fund         0\n",
      "Tiger_Global_Fund    0\n",
      "Berkshire_Fund       0\n",
      "dtype: int64\n"
     ]
    }
   ],
   "source": [
    "# Drop nulls values:\n",
    "\n",
    "whale_returns_df.dropna(inplace = True)\n",
    "print(f\"Dropped null values for Whale Returns:\\n{whale_returns_df.isnull().sum()}\")"
   ]
  },
  {
   "cell_type": "markdown",
   "metadata": {},
   "source": [
    "## Algorithmic Daily Returns\n",
    "\n",
    "Read the algorithmic daily returns and clean the data"
   ]
  },
  {
   "cell_type": "code",
   "execution_count": 4,
   "metadata": {},
   "outputs": [
    {
     "name": "stdout",
     "output_type": "stream",
     "text": [
      "Null values for Algo returns:\n",
      "Algo1    0\n",
      "Algo2    6\n",
      "dtype: int64\n"
     ]
    }
   ],
   "source": [
    "# Read in algorithmic returns:\n",
    "\n",
    "algo_returns_data = Path(\"./Resources/algo_returns.csv\")\n",
    "\n",
    "algo_returns_df = pd.read_csv(algo_returns_data)\n",
    "\n",
    "# Setup collumns:\n",
    "\n",
    "algo_returns_df.columns = ['Date', 'Algo1', 'Algo2',]\n",
    "\n",
    "# Setup index:\n",
    "\n",
    "algo_returns_df.set_index(pd.to_datetime(algo_returns_df[\"Date\"], infer_datetime_format = True), inplace = True)\n",
    "\n",
    "# Drop dups:\n",
    "\n",
    "algo_returns_df.drop(columns = [\"Date\"], inplace = True)\n",
    "\n",
    "# Check for nulls:\n",
    "\n",
    "print(f\"Null values for Algo returns:\\n{algo_returns_df.isnull().sum()}\")"
   ]
  },
  {
   "cell_type": "code",
   "execution_count": 5,
   "metadata": {},
   "outputs": [
    {
     "name": "stdout",
     "output_type": "stream",
     "text": [
      "Dropped null vales for Algo returns:\n",
      "Algo1    0\n",
      "Algo2    0\n",
      "dtype: int64\n"
     ]
    }
   ],
   "source": [
    "# Drop nulls values:\n",
    "\n",
    "algo_returns_df.dropna(inplace = True)\n",
    "print(f\"Dropped null vales for Algo returns:\\n{algo_returns_df.isnull().sum()}\")"
   ]
  },
  {
   "cell_type": "markdown",
   "metadata": {},
   "source": [
    "## S&P 500 Returns\n",
    "\n",
    "Read the S&P 500 historic closing prices and create a new daily returns DataFrame from the data. "
   ]
  },
  {
   "cell_type": "code",
   "execution_count": 6,
   "metadata": {},
   "outputs": [],
   "source": [
    "# Reading S&P 500 Closing Prices:\n",
    "\n",
    "sp500_history_data = Path(\"./Resources/sp500_history.csv\")\n",
    "\n",
    "sp500_history_df = pd.read_csv(sp500_history_data)"
   ]
  },
  {
   "cell_type": "code",
   "execution_count": 7,
   "metadata": {},
   "outputs": [
    {
     "name": "stdout",
     "output_type": "stream",
     "text": [
      "Date     object\n",
      "Close    object\n",
      "dtype: object\n",
      "\n"
     ]
    }
   ],
   "source": [
    "# Check Data Types:\n",
    "\n",
    "print(f\"{sp500_history_df.dtypes}\\n\")"
   ]
  },
  {
   "cell_type": "code",
   "execution_count": 8,
   "metadata": {},
   "outputs": [],
   "source": [
    "# Fix Data Types and set the column names:\n",
    "\n",
    "sp500_history_df.columns = [\"Date\", \"sp500\"]"
   ]
  },
  {
   "cell_type": "code",
   "execution_count": 9,
   "metadata": {},
   "outputs": [],
   "source": [
    "# Calculate Daily Returns:\n",
    "# Set index:\n",
    "\n",
    "sp500_history_df.set_index(pd.to_datetime(sp500_history_df[\"Date\"], infer_datetime_format = True), inplace = True)\n",
    "\n",
    "sp500_history_df.sort_index(inplace = True, ascending = True)\n",
    "\n",
    "#Drop dups\n",
    "\n",
    "sp500_history_df.drop(columns = [\"Date\"], inplace = True)"
   ]
  },
  {
   "cell_type": "code",
   "execution_count": 10,
   "metadata": {},
   "outputs": [
    {
     "data": {
      "text/html": [
       "<div>\n",
       "<style scoped>\n",
       "    .dataframe tbody tr th:only-of-type {\n",
       "        vertical-align: middle;\n",
       "    }\n",
       "\n",
       "    .dataframe tbody tr th {\n",
       "        vertical-align: top;\n",
       "    }\n",
       "\n",
       "    .dataframe thead th {\n",
       "        text-align: right;\n",
       "    }\n",
       "</style>\n",
       "<table border=\"1\" class=\"dataframe\">\n",
       "  <thead>\n",
       "    <tr style=\"text-align: right;\">\n",
       "      <th></th>\n",
       "      <th>sp500</th>\n",
       "    </tr>\n",
       "    <tr>\n",
       "      <th>Date</th>\n",
       "      <th></th>\n",
       "    </tr>\n",
       "  </thead>\n",
       "  <tbody>\n",
       "    <tr>\n",
       "      <th>2012-10-01</th>\n",
       "      <td>$1444.49</td>\n",
       "    </tr>\n",
       "    <tr>\n",
       "      <th>2012-10-02</th>\n",
       "      <td>$1445.75</td>\n",
       "    </tr>\n",
       "    <tr>\n",
       "      <th>2012-10-03</th>\n",
       "      <td>$1450.99</td>\n",
       "    </tr>\n",
       "    <tr>\n",
       "      <th>2012-10-04</th>\n",
       "      <td>$1461.40</td>\n",
       "    </tr>\n",
       "    <tr>\n",
       "      <th>2012-10-05</th>\n",
       "      <td>$1460.93</td>\n",
       "    </tr>\n",
       "  </tbody>\n",
       "</table>\n",
       "</div>"
      ],
      "text/plain": [
       "               sp500\n",
       "Date                \n",
       "2012-10-01  $1444.49\n",
       "2012-10-02  $1445.75\n",
       "2012-10-03  $1450.99\n",
       "2012-10-04  $1461.40\n",
       "2012-10-05  $1460.93"
      ]
     },
     "execution_count": 10,
     "metadata": {},
     "output_type": "execute_result"
    }
   ],
   "source": [
    "# Check / Drop nulls / Print\n",
    "\n",
    "#print(f\"Null values for {sp500_history_df.isnull().sum()}\")\n",
    "\n",
    "#sp500_history_df.dropna(inplace = True)\n",
    "\n",
    "#print(f\"Dropped null values for {sp500_history_df.isnull().sum()}\")\n",
    "\n",
    "sp500_history_df.head()"
   ]
  },
  {
   "cell_type": "code",
   "execution_count": 11,
   "metadata": {},
   "outputs": [
    {
     "name": "stdout",
     "output_type": "stream",
     "text": [
      "               sp500\n",
      "Date                \n",
      "2012-10-01  $1444.49\n",
      "2012-10-02  $1445.75\n",
      "2012-10-03  $1450.99\n",
      "2012-10-04  $1461.40\n",
      "2012-10-05  $1460.93\n",
      "              sp500\n",
      "Date               \n",
      "2012-10-01  1444.49\n",
      "2012-10-02  1445.75\n",
      "2012-10-03  1450.99\n",
      "2012-10-04  1461.40\n",
      "2012-10-05  1460.93\n"
     ]
    }
   ],
   "source": [
    "# Rename `Close` Column to be specific to this portfolio.\n",
    "\n",
    "print(sp500_history_df.head())\n",
    "\n",
    "# Show / Remove $ sign:\n",
    "\n",
    "def remove_dollar_sign(sign):\n",
    "    if isinstance(sign, str):\n",
    "        return(sign.replace(\"$\", \" \"))\n",
    "    return(sign)\n",
    "\n",
    "sp500_history_df[\"sp500\"] = sp500_history_df[\"sp500\"].apply(remove_dollar_sign).astype(\"float\")\n",
    "\n",
    "print(sp500_history_df.head())"
   ]
  },
  {
   "cell_type": "code",
   "execution_count": 12,
   "metadata": {},
   "outputs": [
    {
     "name": "stdout",
     "output_type": "stream",
     "text": [
      "               sp500\n",
      "Date                \n",
      "2012-10-01       NaN\n",
      "2012-10-02  0.000872\n",
      "2012-10-03  0.003624\n",
      "2012-10-04  0.007174\n",
      "2012-10-05 -0.000322\n"
     ]
    }
   ],
   "source": [
    "sp500_returns_df = sp500_history_df.pct_change()\n",
    "print(sp500_returns_df.head())\n",
    "\n",
    "#sp500_returns_cumulative_df = (1 + sp500_returns_df).cumprod()\n",
    "#sp500_returns_cumulative_df.plot()"
   ]
  },
  {
   "cell_type": "markdown",
   "metadata": {},
   "source": [
    "## Combine Whale, Algorithmic, and S&P 500 Returns"
   ]
  },
  {
   "cell_type": "code",
   "execution_count": 13,
   "metadata": {},
   "outputs": [
    {
     "name": "stdout",
     "output_type": "stream",
     "text": [
      "               sp500  Soros_Fund  Paulson_Fund  Tiger_Global_Fund  \\\n",
      "Date                                                                \n",
      "2015-03-03 -0.004539   -0.001266     -0.004981          -0.000496   \n",
      "2015-03-04 -0.004389    0.002230      0.003241          -0.002534   \n",
      "2015-03-05  0.001196    0.004016      0.004076           0.002355   \n",
      "2015-03-06 -0.014174   -0.007905     -0.003574          -0.008481   \n",
      "2015-03-09  0.003944    0.000582      0.004225           0.005843   \n",
      "\n",
      "            Berkshire_Fund     Algo1     Algo2  \n",
      "Date                                            \n",
      "2015-03-03       -0.006569 -0.001942 -0.000949  \n",
      "2015-03-04        0.004213 -0.008589  0.002416  \n",
      "2015-03-05        0.006726 -0.000955  0.004323  \n",
      "2015-03-06       -0.013098 -0.004957 -0.011460  \n",
      "2015-03-09       -0.001652 -0.005447  0.001303  \n"
     ]
    }
   ],
   "source": [
    "# Join Whale Returns, Algorithmic Returns, and the S&P 500 Returns into a single DataFrame with columns for each portfolio's returns.\n",
    "\n",
    "\n",
    "combined_returns_df = pd.concat([sp500_returns_df, whale_returns_df, algo_returns_df], axis = \"columns\", join = \"inner\")\n",
    "\n",
    "print(combined_returns_df.head(5))\n"
   ]
  },
  {
   "cell_type": "markdown",
   "metadata": {},
   "source": [
    "---"
   ]
  },
  {
   "cell_type": "markdown",
   "metadata": {},
   "source": [
    "# Conduct Quantitative Analysis\n",
    "\n",
    "In this section, you will calculate and visualize performance and risk metrics for the portfolios."
   ]
  },
  {
   "cell_type": "markdown",
   "metadata": {},
   "source": [
    "## Performance Anlysis\n",
    "\n",
    "#### Calculate and Plot the daily returns."
   ]
  },
  {
   "cell_type": "code",
   "execution_count": 14,
   "metadata": {},
   "outputs": [
    {
     "data": {
      "text/plain": [
       "<AxesSubplot:title={'center':'Daily Returns for Whales, Algo, S&P 500'}, xlabel='Date', ylabel='Daily Returns'>"
      ]
     },
     "execution_count": 14,
     "metadata": {},
     "output_type": "execute_result"
    },
    {
     "data": {
      "image/png": "[encoded data removed]",
      "text/plain": [
       "<Figure size 432x288 with 1 Axes>"
      ]
     },
     "metadata": {
      "needs_background": "light"
     },
     "output_type": "display_data"
    }
   ],
   "source": [
    "# Plot daily returns of all portfolios\n",
    "\n",
    "combined_returns_df.plot(xlabel = \"Date\", ylabel = \"Daily Returns\", title = \"Daily Returns for Whales, Algo, S&P 500\")"
   ]
  },
  {
   "cell_type": "markdown",
   "metadata": {},
   "source": [
    "#### Calculate and Plot cumulative returns."
   ]
  },
  {
   "cell_type": "code",
   "execution_count": 15,
   "metadata": {},
   "outputs": [
    {
     "data": {
      "text/plain": [
       "<AxesSubplot:title={'center':'Cumulative Returns for Whales, Algo, S&P 500'}, xlabel='Date', ylabel='Cumulative Returns'>"
      ]
     },
     "execution_count": 15,
     "metadata": {},
     "output_type": "execute_result"
    },
    {
     "data": {
      "image/png": "[encoded data removed]",
      "text/plain": [
       "<Figure size 432x288 with 1 Axes>"
      ]
     },
     "metadata": {
      "needs_background": "light"
     },
     "output_type": "display_data"
    }
   ],
   "source": [
    "# Calculate cumulative returns of all portfolios\n",
    "\n",
    "cumulative_returns_df = (1 + combined_returns_df).cumprod()\n",
    "\n",
    "# Plot cumulative returns\n",
    "\n",
    "cumulative_returns_df.plot(xlabel = \"Date\", ylabel = \"Cumulative Returns\", title = \"Cumulative Returns for Whales, Algo, S&P 500\")"
   ]
  },
  {
   "cell_type": "markdown",
   "metadata": {},
   "source": [
    "---"
   ]
  },
  {
   "cell_type": "markdown",
   "metadata": {},
   "source": [
    "## Risk Analysis\n",
    "\n",
    "Determine the _risk_ of each portfolio:\n",
    "\n",
    "1. Create a box plot for each portfolio. \n",
    "2. Calculate the standard deviation for all portfolios\n",
    "4. Determine which portfolios are riskier than the S&P 500\n",
    "5. Calculate the Annualized Standard Deviation"
   ]
  },
  {
   "cell_type": "markdown",
   "metadata": {},
   "source": [
    "### Create a box plot for each portfolio\n"
   ]
  },
  {
   "cell_type": "code",
   "execution_count": 16,
   "metadata": {},
   "outputs": [
    {
     "ename": "SyntaxError",
     "evalue": "invalid syntax (<ipython-input-16-7d0c87c867e6>, line 3)",
     "output_type": "error",
     "traceback": [
      "\u001b[1;36m  File \u001b[1;32m\"<ipython-input-16-7d0c87c867e6>\"\u001b[1;36m, line \u001b[1;32m3\u001b[0m\n\u001b[1;33m    boxplot = combined_returns_df.boxplot(column = [\"SP500\", \"Soros_Fund\", \"Paulson_fund\", \"Tiger_Global_Fund\", \"Berkshire_Fund\", \"Algo1\", \"Algo2\"] rot = 76, fontsize = 9)\u001b[0m\n\u001b[1;37m                                                                                                                                                    ^\u001b[0m\n\u001b[1;31mSyntaxError\u001b[0m\u001b[1;31m:\u001b[0m invalid syntax\n"
     ]
    }
   ],
   "source": [
    "# Box plot to visually show risk\n",
    "\n",
    "boxplot = combined_returns_df.boxplot(column = [\"SP500\", \"Soros_Fund\", \"Paulson_fund\", \"Tiger_Global_Fund\", \"Berkshire_Fund\", \"Algo1\", \"Algo2\"] rot = 76, fontsize = 9)"
   ]
  },
  {
   "cell_type": "markdown",
   "metadata": {},
   "source": [
    "### Calculate Standard Deviations"
   ]
  },
  {
   "cell_type": "code",
   "execution_count": 17,
   "metadata": {},
   "outputs": [
    {
     "name": "stdout",
     "output_type": "stream",
     "text": [
      "Volatility of the whole portfolio:\n",
      "\n",
      "sp500                0.144448\n",
      "Soros_Fund           0.073238\n",
      "Paulson_Fund         0.088455\n",
      "Tiger_Global_Fund    0.149844\n",
      "Berkshire_Fund       0.241575\n",
      "Algo1                0.232277\n",
      "Algo2                0.131700\n",
      "dtype: float64\n"
     ]
    }
   ],
   "source": [
    "# Calculate the daily standard deviations of all portfolios\n",
    "\n",
    "volatility = cumulative_returns_df.std()\n",
    "\n",
    "print(f\"Volatility of the whole portfolio:\\n\\n{(volatility)}\")"
   ]
  },
  {
   "cell_type": "markdown",
   "metadata": {},
   "source": [
    "### Determine which portfolios are riskier than the S&P 500"
   ]
  },
  {
   "cell_type": "code",
   "execution_count": 18,
   "metadata": {},
   "outputs": [
    {
     "name": "stdout",
     "output_type": "stream",
     "text": [
      "Volatility of S&P500: 0.14444769967610394\n",
      "Volatility of Soros Fund: 0.0732381791816174\n",
      "Volatility of Paulson Fund: 0.08845503752573346\n",
      "Volatility of Tiger Global: 0.14984442474431858\n",
      "Volatility of Berkshire Hathaway: 0.24157462880056535\n",
      "Volatility of Algo 1: 0.23227714752452805\n",
      "Volatility of Algo 2: 0.13170033061807573\n",
      "\n",
      "The most volatile funds are: Tiger Golbal, Berkshire Hathaway, Algo 1\n"
     ]
    }
   ],
   "source": [
    "# Calculate  the daily standard deviation of S&P 500:\n",
    "\n",
    "volatility_sp500 = volatility[0]\n",
    "\n",
    "volatility_soros_fund = volatility[1]\n",
    "\n",
    "volatility_paulson_fund = volatility[2]\n",
    "\n",
    "volatility_tiger_global = volatility[3]\n",
    "\n",
    "volatility_berkshaire_fund = volatility[4]\n",
    "\n",
    "volatility_algo_1 = volatility[5]\n",
    "\n",
    "volatility_algo_2 = volatility[6]\n",
    "\n",
    "# print out the funds:\n",
    "\n",
    "print(f\"Volatility of S&P500: {volatility_sp500}\")\n",
    "print(f\"Volatility of Soros Fund: {volatility_soros_fund}\")\n",
    "print(f\"Volatility of Paulson Fund: {volatility_paulson_fund}\")\n",
    "print(f\"Volatility of Tiger Global: {volatility_tiger_global}\")\n",
    "print(f\"Volatility of Berkshire Hathaway: {volatility_berkshaire_fund}\")\n",
    "print(f\"Volatility of Algo 1: {volatility_algo_1}\")\n",
    "print(f\"Volatility of Algo 2: {volatility_algo_2}\")\n",
    "\n",
    "\n",
    "# Determine which portfolios are riskier than the S&P 500:\n",
    "\n",
    "print()\n",
    "print(f\"The most volatile funds are: Tiger Golbal, Berkshire Hathaway, Algo 1\")"
   ]
  },
  {
   "cell_type": "markdown",
   "metadata": {},
   "source": [
    "### Calculate the Annualized Standard Deviation"
   ]
  },
  {
   "cell_type": "code",
   "execution_count": 19,
   "metadata": {},
   "outputs": [
    {
     "name": "stdout",
     "output_type": "stream",
     "text": [
      "Volatility of S&P500: 2.2930361447898973\n",
      "Volatility of Soros Fund: 1.162620051538486\n",
      "Volatility of Paulson Fund: 1.4041801890238612\n",
      "Volatility of Tiger Global: 2.378706499338002\n",
      "Volatility of Berkshire Hathaway: 3.8348783452142254\n",
      "Volatility of Algo 1: 3.6872854055601807\n",
      "Volatility of Algo 2: 2.0906779344024837\n"
     ]
    }
   ],
   "source": [
    "# Calculate the annualized standard deviation (252 trading days)\n",
    "\n",
    "volatility_annual = cumulative_returns_df.std() * np.sqrt(252)\n",
    "\n",
    "\n",
    "volatility_annual_sp500 = volatility_annual[0]\n",
    "\n",
    "volatility_annual_soros_fund = volatility_annual[1]\n",
    "\n",
    "volatility_annual_paulson_fund = volatility_annual[2]\n",
    "\n",
    "volatility_annual_tiger_global = volatility_annual[3]\n",
    "\n",
    "volatility_annual_berkshaire_fund = volatility_annual[4]\n",
    "\n",
    "volatility_annual_algo_1 = volatility_annual[5]\n",
    "\n",
    "volatility_annual_algo_2 = volatility_annual[6]\n",
    "\n",
    "# print funds\n",
    "\n",
    "print(f\"Volatility of S&P500: {volatility_annual_sp500}\")\n",
    "print(f\"Volatility of Soros Fund: {volatility_annual_soros_fund}\")\n",
    "print(f\"Volatility of Paulson Fund: {volatility_annual_paulson_fund}\")\n",
    "print(f\"Volatility of Tiger Global: {volatility_annual_tiger_global}\")\n",
    "print(f\"Volatility of Berkshire Hathaway: {volatility_annual_berkshaire_fund}\")\n",
    "print(f\"Volatility of Algo 1: {volatility_annual_algo_1}\")\n",
    "print(f\"Volatility of Algo 2: {volatility_annual_algo_2}\")"
   ]
  },
  {
   "cell_type": "markdown",
   "metadata": {},
   "source": [
    "---"
   ]
  },
  {
   "cell_type": "markdown",
   "metadata": {},
   "source": [
    "## Rolling Statistics\n",
    "\n",
    "Risk changes over time. Analyze the rolling statistics for Risk and Beta. \n",
    "\n",
    "1. Calculate and plot the rolling standard deviation for the S&P 500 using a 21-day window\n",
    "2. Calculate the correlation between each stock to determine which portfolios may mimick the S&P 500\n",
    "3. Choose one portfolio, then calculate and plot the 60-day rolling beta between it and the S&P 500"
   ]
  },
  {
   "cell_type": "markdown",
   "metadata": {},
   "source": [
    "### Calculate and plot rolling `std` for all portfolios with 21-day window"
   ]
  },
  {
   "cell_type": "code",
   "execution_count": 20,
   "metadata": {},
   "outputs": [
    {
     "data": {
      "text/plain": [
       "<AxesSubplot:title={'center':'21 Day Rolling STD for Whales, Algo, SP500'}, xlabel='Date', ylabel='21 Day Rolling STD'>"
      ]
     },
     "execution_count": 20,
     "metadata": {},
     "output_type": "execute_result"
    },
    {
     "data": {
      "image/png": "[encoded data removed]",
      "text/plain": [
       "<Figure size 432x288 with 1 Axes>"
      ]
     },
     "metadata": {
      "needs_background": "light"
     },
     "output_type": "display_data"
    }
   ],
   "source": [
    "# Calculate the rolling standard deviation for all portfolios using a 21-day window\n",
    "\n",
    "# Plot the rolling standard deviation\n",
    "\n",
    "cumulative_returns_df.rolling(window = 21).std().plot(xlabel = \"Date\", ylabel = \"21 Day Rolling STD\", title = \"21 Day Rolling STD for Whales, Algo, SP500\")"
   ]
  },
  {
   "cell_type": "markdown",
   "metadata": {},
   "source": [
    "### Calculate and plot the correlation"
   ]
  },
  {
   "cell_type": "code",
   "execution_count": 21,
   "metadata": {},
   "outputs": [
    {
     "name": "stdout",
     "output_type": "stream",
     "text": [
      "Correlation of Whales, SP500                      sp500  Soros_Fund  Paulson_Fund  Tiger_Global_Fund  \\\n",
      "sp500              1.000000    0.837864      0.669732           0.623946   \n",
      "Soros_Fund         0.837864    1.000000      0.699914           0.561243   \n",
      "Paulson_Fund       0.669732    0.699914      1.000000           0.434479   \n",
      "Tiger_Global_Fund  0.623946    0.561243      0.434479           1.000000   \n",
      "Berkshire_Fund     0.751371    0.754360      0.545623           0.424423   \n",
      "Algo1              0.279494    0.321211      0.268840           0.164387   \n",
      "Algo2              0.858764    0.826873      0.678152           0.507414   \n",
      "\n",
      "                   Berkshire_Fund     Algo1     Algo2  \n",
      "sp500                    0.751371  0.279494  0.858764  \n",
      "Soros_Fund               0.754360  0.321211  0.826873  \n",
      "Paulson_Fund             0.545623  0.268840  0.678152  \n",
      "Tiger_Global_Fund        0.424423  0.164387  0.507414  \n",
      "Berkshire_Fund           1.000000  0.292033  0.688082  \n",
      "Algo1                    0.292033  1.000000  0.288243  \n",
      "Algo2                    0.688082  0.288243  1.000000  \n"
     ]
    },
    {
     "data": {
      "text/html": [
       "<div>\n",
       "<style scoped>\n",
       "    .dataframe tbody tr th:only-of-type {\n",
       "        vertical-align: middle;\n",
       "    }\n",
       "\n",
       "    .dataframe tbody tr th {\n",
       "        vertical-align: top;\n",
       "    }\n",
       "\n",
       "    .dataframe thead th {\n",
       "        text-align: right;\n",
       "    }\n",
       "</style>\n",
       "<table border=\"1\" class=\"dataframe\">\n",
       "  <thead>\n",
       "    <tr style=\"text-align: right;\">\n",
       "      <th></th>\n",
       "      <th>sp500</th>\n",
       "      <th>Soros_Fund</th>\n",
       "      <th>Paulson_Fund</th>\n",
       "      <th>Tiger_Global_Fund</th>\n",
       "      <th>Berkshire_Fund</th>\n",
       "      <th>Algo1</th>\n",
       "      <th>Algo2</th>\n",
       "    </tr>\n",
       "  </thead>\n",
       "  <tbody>\n",
       "    <tr>\n",
       "      <th>sp500</th>\n",
       "      <td>1.000000</td>\n",
       "      <td>0.837864</td>\n",
       "      <td>0.669732</td>\n",
       "      <td>0.623946</td>\n",
       "      <td>0.751371</td>\n",
       "      <td>0.279494</td>\n",
       "      <td>0.858764</td>\n",
       "    </tr>\n",
       "    <tr>\n",
       "      <th>Soros_Fund</th>\n",
       "      <td>0.837864</td>\n",
       "      <td>1.000000</td>\n",
       "      <td>0.699914</td>\n",
       "      <td>0.561243</td>\n",
       "      <td>0.754360</td>\n",
       "      <td>0.321211</td>\n",
       "      <td>0.826873</td>\n",
       "    </tr>\n",
       "    <tr>\n",
       "      <th>Paulson_Fund</th>\n",
       "      <td>0.669732</td>\n",
       "      <td>0.699914</td>\n",
       "      <td>1.000000</td>\n",
       "      <td>0.434479</td>\n",
       "      <td>0.545623</td>\n",
       "      <td>0.268840</td>\n",
       "      <td>0.678152</td>\n",
       "    </tr>\n",
       "    <tr>\n",
       "      <th>Tiger_Global_Fund</th>\n",
       "      <td>0.623946</td>\n",
       "      <td>0.561243</td>\n",
       "      <td>0.434479</td>\n",
       "      <td>1.000000</td>\n",
       "      <td>0.424423</td>\n",
       "      <td>0.164387</td>\n",
       "      <td>0.507414</td>\n",
       "    </tr>\n",
       "    <tr>\n",
       "      <th>Berkshire_Fund</th>\n",
       "      <td>0.751371</td>\n",
       "      <td>0.754360</td>\n",
       "      <td>0.545623</td>\n",
       "      <td>0.424423</td>\n",
       "      <td>1.000000</td>\n",
       "      <td>0.292033</td>\n",
       "      <td>0.688082</td>\n",
       "    </tr>\n",
       "    <tr>\n",
       "      <th>Algo1</th>\n",
       "      <td>0.279494</td>\n",
       "      <td>0.321211</td>\n",
       "      <td>0.268840</td>\n",
       "      <td>0.164387</td>\n",
       "      <td>0.292033</td>\n",
       "      <td>1.000000</td>\n",
       "      <td>0.288243</td>\n",
       "    </tr>\n",
       "    <tr>\n",
       "      <th>Algo2</th>\n",
       "      <td>0.858764</td>\n",
       "      <td>0.826873</td>\n",
       "      <td>0.678152</td>\n",
       "      <td>0.507414</td>\n",
       "      <td>0.688082</td>\n",
       "      <td>0.288243</td>\n",
       "      <td>1.000000</td>\n",
       "    </tr>\n",
       "  </tbody>\n",
       "</table>\n",
       "</div>"
      ],
      "text/plain": [
       "                      sp500  Soros_Fund  Paulson_Fund  Tiger_Global_Fund  \\\n",
       "sp500              1.000000    0.837864      0.669732           0.623946   \n",
       "Soros_Fund         0.837864    1.000000      0.699914           0.561243   \n",
       "Paulson_Fund       0.669732    0.699914      1.000000           0.434479   \n",
       "Tiger_Global_Fund  0.623946    0.561243      0.434479           1.000000   \n",
       "Berkshire_Fund     0.751371    0.754360      0.545623           0.424423   \n",
       "Algo1              0.279494    0.321211      0.268840           0.164387   \n",
       "Algo2              0.858764    0.826873      0.678152           0.507414   \n",
       "\n",
       "                   Berkshire_Fund     Algo1     Algo2  \n",
       "sp500                    0.751371  0.279494  0.858764  \n",
       "Soros_Fund               0.754360  0.321211  0.826873  \n",
       "Paulson_Fund             0.545623  0.268840  0.678152  \n",
       "Tiger_Global_Fund        0.424423  0.164387  0.507414  \n",
       "Berkshire_Fund           1.000000  0.292033  0.688082  \n",
       "Algo1                    0.292033  1.000000  0.288243  \n",
       "Algo2                    0.688082  0.288243  1.000000  "
      ]
     },
     "execution_count": 21,
     "metadata": {},
     "output_type": "execute_result"
    }
   ],
   "source": [
    "# Calculate the correlation\n",
    "\n",
    "correlation = combined_returns_df.corr()\n",
    "\n",
    "print(f\"Correlation of Whales, SP500{correlation}\")\n",
    "\n",
    "# Display the correlation matrix\n",
    "\n",
    "correlation"
   ]
  },
  {
   "cell_type": "markdown",
   "metadata": {},
   "source": [
    "### Calculate and Plot Beta for a chosen portfolio and the S&P 500"
   ]
  },
  {
   "cell_type": "code",
   "execution_count": 22,
   "metadata": {},
   "outputs": [
    {
     "name": "stdout",
     "output_type": "stream",
     "text": [
      "Coveriance for Soros Fund: 0.009262121816538899\n",
      "Coveriance for Paulson Fund: -0.01090146294893855\n",
      "Coveriance for Tiger Global: 0.0028483321292909355\n",
      "Coveriance for Berkshire Hathaway: 0.0327504631521064\n",
      "Coveriance for Algo 1: 0.024835616826725894\n",
      "Coveriance for Algo 2: 0.018374787698481547\n",
      "Covariance of SP500: 0.020865137941717918\n",
      "Beta of Soros Fund: (0.4439041736704813, 7)\n",
      "Beta of Paulson Fund: (-0.5224726037943933, 7)\n",
      "Beta of Tiger Global: (0.1365115407934092, 7)\n",
      "Beta of Berkshire Hathaway: (1.569626006958951, 7)\n",
      "Beta of Algo 1: (1.1902924819427803, 7)\n",
      "Beta of Algo 2: (0.8806453975913026, 7)\n"
     ]
    },
    {
     "ename": "KeyError",
     "evalue": "'soros_fund'",
     "output_type": "error",
     "traceback": [
      "\u001b[1;31m---------------------------------------------------------------------------\u001b[0m",
      "\u001b[1;31mKeyError\u001b[0m                                  Traceback (most recent call last)",
      "\u001b[1;32m~\\anaconda3\\lib\\site-packages\\pandas\\core\\indexes\\base.py\u001b[0m in \u001b[0;36mget_loc\u001b[1;34m(self, key, method, tolerance)\u001b[0m\n\u001b[0;32m   2894\u001b[0m             \u001b[1;32mtry\u001b[0m\u001b[1;33m:\u001b[0m\u001b[1;33m\u001b[0m\u001b[1;33m\u001b[0m\u001b[0m\n\u001b[1;32m-> 2895\u001b[1;33m                 \u001b[1;32mreturn\u001b[0m \u001b[0mself\u001b[0m\u001b[1;33m.\u001b[0m\u001b[0m_engine\u001b[0m\u001b[1;33m.\u001b[0m\u001b[0mget_loc\u001b[0m\u001b[1;33m(\u001b[0m\u001b[0mcasted_key\u001b[0m\u001b[1;33m)\u001b[0m\u001b[1;33m\u001b[0m\u001b[1;33m\u001b[0m\u001b[0m\n\u001b[0m\u001b[0;32m   2896\u001b[0m             \u001b[1;32mexcept\u001b[0m \u001b[0mKeyError\u001b[0m \u001b[1;32mas\u001b[0m \u001b[0merr\u001b[0m\u001b[1;33m:\u001b[0m\u001b[1;33m\u001b[0m\u001b[1;33m\u001b[0m\u001b[0m\n",
      "\u001b[1;32mpandas\\_libs\\index.pyx\u001b[0m in \u001b[0;36mpandas._libs.index.IndexEngine.get_loc\u001b[1;34m()\u001b[0m\n",
      "\u001b[1;32mpandas\\_libs\\index.pyx\u001b[0m in \u001b[0;36mpandas._libs.index.IndexEngine.get_loc\u001b[1;34m()\u001b[0m\n",
      "\u001b[1;32mpandas\\_libs\\hashtable_class_helper.pxi\u001b[0m in \u001b[0;36mpandas._libs.hashtable.PyObjectHashTable.get_item\u001b[1;34m()\u001b[0m\n",
      "\u001b[1;32mpandas\\_libs\\hashtable_class_helper.pxi\u001b[0m in \u001b[0;36mpandas._libs.hashtable.PyObjectHashTable.get_item\u001b[1;34m()\u001b[0m\n",
      "\u001b[1;31mKeyError\u001b[0m: 'soros_fund'",
      "\nThe above exception was the direct cause of the following exception:\n",
      "\u001b[1;31mKeyError\u001b[0m                                  Traceback (most recent call last)",
      "\u001b[1;32m<ipython-input-22-933021dd572a>\u001b[0m in \u001b[0;36m<module>\u001b[1;34m\u001b[0m\n\u001b[0;32m     52\u001b[0m \u001b[1;31m#plt.show()\u001b[0m\u001b[1;33m\u001b[0m\u001b[1;33m\u001b[0m\u001b[1;33m\u001b[0m\u001b[0m\n\u001b[0;32m     53\u001b[0m \u001b[1;33m\u001b[0m\u001b[0m\n\u001b[1;32m---> 54\u001b[1;33m \u001b[0mrolling_covariance_soros_fund\u001b[0m \u001b[1;33m=\u001b[0m \u001b[0mcombined_returns_df\u001b[0m\u001b[1;33m[\u001b[0m\u001b[1;34m\"soros_fund\"\u001b[0m\u001b[1;33m]\u001b[0m\u001b[1;33m.\u001b[0m\u001b[0mrolling\u001b[0m\u001b[1;33m(\u001b[0m\u001b[0mwindow\u001b[0m\u001b[1;33m=\u001b[0m\u001b[1;36m21\u001b[0m\u001b[1;33m)\u001b[0m\u001b[1;33m.\u001b[0m\u001b[0mcov\u001b[0m\u001b[1;33m(\u001b[0m\u001b[0mcombined_returns_df\u001b[0m\u001b[1;33m[\u001b[0m\u001b[1;34m\"sp500\"\u001b[0m\u001b[1;33m]\u001b[0m\u001b[1;33m)\u001b[0m\u001b[1;33m\u001b[0m\u001b[1;33m\u001b[0m\u001b[0m\n\u001b[0m\u001b[0;32m     55\u001b[0m \u001b[0mrolling_covariance_paulson_fund\u001b[0m \u001b[1;33m=\u001b[0m \u001b[0mcombined_returns_df\u001b[0m\u001b[1;33m[\u001b[0m\u001b[1;34m\"paulson_fund\"\u001b[0m\u001b[1;33m]\u001b[0m\u001b[1;33m.\u001b[0m\u001b[0mrolling\u001b[0m\u001b[1;33m(\u001b[0m\u001b[0mwindow\u001b[0m\u001b[1;33m=\u001b[0m\u001b[1;36m21\u001b[0m\u001b[1;33m)\u001b[0m\u001b[1;33m.\u001b[0m\u001b[0mcov\u001b[0m\u001b[1;33m(\u001b[0m\u001b[0mcombined_returns_df\u001b[0m\u001b[1;33m[\u001b[0m\u001b[1;34m\"sp500\"\u001b[0m\u001b[1;33m]\u001b[0m\u001b[1;33m)\u001b[0m\u001b[1;33m\u001b[0m\u001b[1;33m\u001b[0m\u001b[0m\n\u001b[0;32m     56\u001b[0m \u001b[0mrolling_covariance_tiger_golbal_fund\u001b[0m \u001b[1;33m=\u001b[0m \u001b[0mcombined_returns_df\u001b[0m\u001b[1;33m[\u001b[0m\u001b[1;34m\"tiger_global_fund\"\u001b[0m\u001b[1;33m]\u001b[0m\u001b[1;33m.\u001b[0m\u001b[0mrolling\u001b[0m\u001b[1;33m(\u001b[0m\u001b[0mwindow\u001b[0m\u001b[1;33m=\u001b[0m\u001b[1;36m21\u001b[0m\u001b[1;33m)\u001b[0m\u001b[1;33m.\u001b[0m\u001b[0mcov\u001b[0m\u001b[1;33m(\u001b[0m\u001b[0mcombined_returns_df\u001b[0m\u001b[1;33m[\u001b[0m\u001b[1;34m\"sp500\"\u001b[0m\u001b[1;33m]\u001b[0m\u001b[1;33m)\u001b[0m\u001b[1;33m\u001b[0m\u001b[1;33m\u001b[0m\u001b[0m\n",
      "\u001b[1;32m~\\anaconda3\\lib\\site-packages\\pandas\\core\\frame.py\u001b[0m in \u001b[0;36m__getitem__\u001b[1;34m(self, key)\u001b[0m\n\u001b[0;32m   2900\u001b[0m             \u001b[1;32mif\u001b[0m \u001b[0mself\u001b[0m\u001b[1;33m.\u001b[0m\u001b[0mcolumns\u001b[0m\u001b[1;33m.\u001b[0m\u001b[0mnlevels\u001b[0m \u001b[1;33m>\u001b[0m \u001b[1;36m1\u001b[0m\u001b[1;33m:\u001b[0m\u001b[1;33m\u001b[0m\u001b[1;33m\u001b[0m\u001b[0m\n\u001b[0;32m   2901\u001b[0m                 \u001b[1;32mreturn\u001b[0m \u001b[0mself\u001b[0m\u001b[1;33m.\u001b[0m\u001b[0m_getitem_multilevel\u001b[0m\u001b[1;33m(\u001b[0m\u001b[0mkey\u001b[0m\u001b[1;33m)\u001b[0m\u001b[1;33m\u001b[0m\u001b[1;33m\u001b[0m\u001b[0m\n\u001b[1;32m-> 2902\u001b[1;33m             \u001b[0mindexer\u001b[0m \u001b[1;33m=\u001b[0m \u001b[0mself\u001b[0m\u001b[1;33m.\u001b[0m\u001b[0mcolumns\u001b[0m\u001b[1;33m.\u001b[0m\u001b[0mget_loc\u001b[0m\u001b[1;33m(\u001b[0m\u001b[0mkey\u001b[0m\u001b[1;33m)\u001b[0m\u001b[1;33m\u001b[0m\u001b[1;33m\u001b[0m\u001b[0m\n\u001b[0m\u001b[0;32m   2903\u001b[0m             \u001b[1;32mif\u001b[0m \u001b[0mis_integer\u001b[0m\u001b[1;33m(\u001b[0m\u001b[0mindexer\u001b[0m\u001b[1;33m)\u001b[0m\u001b[1;33m:\u001b[0m\u001b[1;33m\u001b[0m\u001b[1;33m\u001b[0m\u001b[0m\n\u001b[0;32m   2904\u001b[0m                 \u001b[0mindexer\u001b[0m \u001b[1;33m=\u001b[0m \u001b[1;33m[\u001b[0m\u001b[0mindexer\u001b[0m\u001b[1;33m]\u001b[0m\u001b[1;33m\u001b[0m\u001b[1;33m\u001b[0m\u001b[0m\n",
      "\u001b[1;32m~\\anaconda3\\lib\\site-packages\\pandas\\core\\indexes\\base.py\u001b[0m in \u001b[0;36mget_loc\u001b[1;34m(self, key, method, tolerance)\u001b[0m\n\u001b[0;32m   2895\u001b[0m                 \u001b[1;32mreturn\u001b[0m \u001b[0mself\u001b[0m\u001b[1;33m.\u001b[0m\u001b[0m_engine\u001b[0m\u001b[1;33m.\u001b[0m\u001b[0mget_loc\u001b[0m\u001b[1;33m(\u001b[0m\u001b[0mcasted_key\u001b[0m\u001b[1;33m)\u001b[0m\u001b[1;33m\u001b[0m\u001b[1;33m\u001b[0m\u001b[0m\n\u001b[0;32m   2896\u001b[0m             \u001b[1;32mexcept\u001b[0m \u001b[0mKeyError\u001b[0m \u001b[1;32mas\u001b[0m \u001b[0merr\u001b[0m\u001b[1;33m:\u001b[0m\u001b[1;33m\u001b[0m\u001b[1;33m\u001b[0m\u001b[0m\n\u001b[1;32m-> 2897\u001b[1;33m                 \u001b[1;32mraise\u001b[0m \u001b[0mKeyError\u001b[0m\u001b[1;33m(\u001b[0m\u001b[0mkey\u001b[0m\u001b[1;33m)\u001b[0m \u001b[1;32mfrom\u001b[0m \u001b[0merr\u001b[0m\u001b[1;33m\u001b[0m\u001b[1;33m\u001b[0m\u001b[0m\n\u001b[0m\u001b[0;32m   2898\u001b[0m \u001b[1;33m\u001b[0m\u001b[0m\n\u001b[0;32m   2899\u001b[0m         \u001b[1;32mif\u001b[0m \u001b[0mtolerance\u001b[0m \u001b[1;32mis\u001b[0m \u001b[1;32mnot\u001b[0m \u001b[1;32mNone\u001b[0m\u001b[1;33m:\u001b[0m\u001b[1;33m\u001b[0m\u001b[1;33m\u001b[0m\u001b[0m\n",
      "\u001b[1;31mKeyError\u001b[0m: 'soros_fund'"
     ]
    }
   ],
   "source": [
    "# Calculate covariance of a single portfolio\n",
    "\n",
    "coveriance_soros_fund = cumulative_returns_df[\"Soros_Fund\"].cov(cumulative_returns_df[\"sp500\"])\n",
    "coveriance_paulson_fund = cumulative_returns_df[\"Paulson_Fund\"].cov(cumulative_returns_df[\"sp500\"])\n",
    "coveriance_tiger_global = cumulative_returns_df[\"Tiger_Global_Fund\"].cov(cumulative_returns_df[\"sp500\"])\n",
    "coveriance_berkshire_fund = cumulative_returns_df[\"Berkshire_Fund\"].cov(cumulative_returns_df[\"sp500\"])\n",
    "coveriance_algo_1 = cumulative_returns_df[\"Algo1\"].cov(cumulative_returns_df[\"sp500\"])\n",
    "coveriance_algo_2 = cumulative_returns_df[\"Algo2\"].cov(cumulative_returns_df[\"sp500\"])\n",
    "\n",
    "print(f\"Coveriance for Soros Fund: {coveriance_soros_fund}\")\n",
    "print(f\"Coveriance for Paulson Fund: {coveriance_paulson_fund}\")\n",
    "print(f\"Coveriance for Tiger Global: {coveriance_tiger_global}\")\n",
    "print(f\"Coveriance for Berkshire Hathaway: {coveriance_berkshire_fund}\")\n",
    "print(f\"Coveriance for Algo 1: {coveriance_algo_1}\")\n",
    "print(f\"Coveriance for Algo 2: {coveriance_algo_2}\")\n",
    "\n",
    "# Calculate variance of S&P 500\n",
    "\n",
    "variance = cumulative_returns_df[\"sp500\"].var()\n",
    "print(f\"Covariance of SP500: {variance}\")\n",
    "\n",
    "# Computing beta\n",
    "\n",
    "soros_fund_beta = coveriance_soros_fund / variance\n",
    "paulson_fund_beta = coveriance_paulson_fund / variance\n",
    "tiger_global_beta = coveriance_tiger_global / variance\n",
    "berkshire_fund_beta = coveriance_berkshire_fund / variance\n",
    "algo1_fund_beta = coveriance_algo_1 / variance\n",
    "algo2_fund_beta = coveriance_algo_2 / variance\n",
    "\n",
    "print(f\"Beta of Soros Fund: {(soros_fund_beta, 7)}\")\n",
    "print(f\"Beta of Paulson Fund: {(paulson_fund_beta, 7)}\")\n",
    "print(f\"Beta of Tiger Global: {(tiger_global_beta, 7)}\")\n",
    "print(f\"Beta of Berkshire Hathaway: {(berkshire_fund_beta, 7)}\")\n",
    "print(f\"Beta of Algo 1: {(algo1_fund_beta, 7)}\")\n",
    "print(f\"Beta of Algo 2: {(algo2_fund_beta, 7)}\")\n",
    "\n",
    "# SShow variance of SP500:\n",
    "#variance = cumulative_returns_df[\"sp500\"].var()\n",
    "#print(f\"Variance of SP500: {round(variance, 7)}\")\n",
    "\n",
    "# Plot beta trend\n",
    "portfolio = [\"Soros Fund\", \"Paulson Fund\", \"Tiger Global Fund\", \"Berkshire Fund\", \"Algo 1\", \"ALGO 2\"]\n",
    "beta = [soros_fund_beta, paulson_fund_beta, tiger_global_beta, berkshire_fund_beta, algo1_fund_beta, algo2_fund_beta]\n",
    "\n",
    "#plt.figure(figsize = (10, 4))\n",
    "#plt.bar(portfolio, beta)\n",
    "#plt.xlabel(\"Portfolio\")\n",
    "#plt.ylabel(\"Beta\")\n",
    "#plt.grid()\n",
    "#plt.title(\"Statistic Beta of the entire Portfolio\")\n",
    "#plt.show()\n",
    "\n",
    "rolling_covariance_soros_fund = combined_returns_df[\"soros_fund\"].rolling(window=21).cov(combined_returns_df[\"sp500\"])\n",
    "rolling_covariance_paulson_fund = combined_returns_df[\"paulson_fund\"].rolling(window=21).cov(combined_returns_df[\"sp500\"])\n",
    "rolling_covariance_tiger_golbal_fund = combined_returns_df[\"tiger_global_fund\"].rolling(window=21).cov(combined_returns_df[\"sp500\"])\n",
    "rolling_covariance_berkshire_fund = combined_returns_df[\"berkshire_fund\"].rolling(window=21).cov(combined_returns_df[\"sp500\"])\n",
    "rolling_covariance_algo1 = combined_returns_df[\"algo_1\"].rolling(window=21).cov(combined_returns_df[\"sp500\"])\n",
    "rolling_covariance_algo2 = combined_returns_df[\"algo_2\"].rolling(window=21).cov(combined_returns_df[\"sp500\"])\n",
    "\n",
    "rolling_variance_sp500 = combined_returns_df[\"sp500\"].rolling(window=21).var()\n",
    "\n",
    "rolling_beta_soros_fund = rolling_covariance_soros_fund / rolling_variance_sp500\n",
    "rolling_beta_paulson_fund = rolling_covariance_paulson_fund / rolling_variance_sp500\n",
    "rolling_beta_tiger_global_fund = rolling_covariance_tiger_global_fund / rolling_variance_sp500\n",
    "rolling_beta_berkshire_fund = rolling_covariance_berkshire_fund / rolling_variance_sp500\n",
    "rolling_beta_algo_1 = rolling_covariance_algo_1 / rolling_variance_sp500\n",
    "rolling_beta_algo_2 = rolling_covariance_algo_2 / rolling_variance_sp500\n",
    "\n",
    "\n",
    "ax = rolling_beta_soros_fund.plot(figsize=(20,10))\n",
    "rolling_beta_paulson_fund.plot(ax=ax)\n",
    "rolling_beta_tiger_global_fund.plot(ax=ax)\n",
    "rolling_beta_berkshire_fund.plot(ax=ax)\n",
    "rolling_beta_algo_1.plot(ax=ax)\n",
    "rolling_beta_algo_2.plot(ax=ax)\n",
    "\n",
    "ax.set_ylabel(\"Rolling Beta\")\n",
    "ax.set_xlabel(\"Date\")\n",
    "ax.set_title(\"Rolling 21 Day Portfolio Beta\")\n",
    "\n",
    "ax.legend([\"Soros Fund\", \"Paulson Fund\", \"Tiger Global Fund\", \"Berkshire Fund\", \"Algo 1\", \"Algo 2\"])"
   ]
  },
  {
   "cell_type": "markdown",
   "metadata": {},
   "source": [
    "## Rolling Statistics Challenge: Exponentially Weighted Average \n",
    "\n",
    "An alternative way to calculate a rolling window is to take the exponentially weighted moving average. This is like a moving window average, but it assigns greater importance to more recent observations. Try calculating the [`ewm`](https://pandas.pydata.org/pandas-docs/stable/reference/api/pandas.DataFrame.ewm.html) with a 21-day half-life."
   ]
  },
  {
   "cell_type": "code",
   "execution_count": 23,
   "metadata": {},
   "outputs": [],
   "source": [
    "# Use `ewm` to calculate the rolling window\n",
    "\n"
   ]
  },
  {
   "cell_type": "markdown",
   "metadata": {},
   "source": [
    "---"
   ]
  },
  {
   "cell_type": "markdown",
   "metadata": {},
   "source": [
    "# Sharpe Ratios\n",
    "In reality, investment managers and thier institutional investors look at the ratio of return-to-risk, and not just returns alone. After all, if you could invest in one of two portfolios, and each offered the same 10% return, yet one offered lower risk, you'd take that one, right?\n",
    "\n",
    "### Using the daily returns, calculate and visualize the Sharpe ratios using a bar plot"
   ]
  },
  {
   "cell_type": "code",
   "execution_count": 24,
   "metadata": {},
   "outputs": [
    {
     "name": "stdout",
     "output_type": "stream",
     "text": [
      "Sharpe Ratio of the entire Portfolio: sp500                0.648267\n",
      "Soros_Fund           0.356417\n",
      "Paulson_Fund        -0.483570\n",
      "Tiger_Global_Fund   -0.121060\n",
      "Berkshire_Fund       0.621810\n",
      "Algo1                1.378648\n",
      "Algo2                0.501364\n",
      "dtype: float64\n"
     ]
    }
   ],
   "source": [
    "# Annualized Sharpe Ratios\n",
    "\n",
    "sharpe_ratios = (combined_returns_df.mean() * 252) / (combined_returns_df.std() * np.sqrt(252))\n",
    "print(f\"Sharpe Ratio of the entire Portfolio: {sharpe_ratios}\")"
   ]
  },
  {
   "cell_type": "code",
   "execution_count": 25,
   "metadata": {},
   "outputs": [],
   "source": [
    "# Visualize the sharpe ratios as a bar plot\n",
    "portfolio = [\"Soros Fund\", \"Paulson Fund\", \"Tiger Global Fund\", \"Berkshire Fund\", \"Algo 1\", \"Algo 2\"]\n",
    "beta = [sharpe_ratios[0], sharpe_ratios[1], sharpe_ratios[2], sharpe_ratios[3], sharpe_ratios[4], sharpe_ratios[5]]\n",
    "\n",
    "#plt.figure(figsize = (10, 4))\n",
    "#plt.bar(portfolio, beta)\n",
    "#plt.grid()\n",
    "#plt.set_xlabel(\"Portfolios\")\n",
    "#plt.set_ylabel(\"Portfolios\")\n",
    "#plt.title(\"Sharpe Ratio for the entire Portfolio\")\n",
    "#plt.show()"
   ]
  },
  {
   "cell_type": "markdown",
   "metadata": {},
   "source": [
    "### Determine whether the algorithmic strategies outperform both the market (S&P 500) and the whales portfolios.\n",
    "\n",
    "Write your answer here!"
   ]
  },
  {
   "cell_type": "markdown",
   "metadata": {},
   "source": [
    "---"
   ]
  },
  {
   "cell_type": "markdown",
   "metadata": {},
   "source": [
    "# Create Custom Portfolio\n",
    "\n",
    "In this section, you will build your own portfolio of stocks, calculate the returns, and compare the results to the Whale Portfolios and the S&P 500. \n",
    "\n",
    "1. Choose 3-5 custom stocks with at last 1 year's worth of historic prices and create a DataFrame of the closing prices and dates for each stock.\n",
    "2. Calculate the weighted returns for the portfolio assuming an equal number of shares for each stock\n",
    "3. Join your portfolio returns to the DataFrame that contains all of the portfolio returns\n",
    "4. Re-run the performance and risk analysis with your portfolio to see how it compares to the others\n",
    "5. Include correlation analysis to determine which stocks (if any) are correlated"
   ]
  },
  {
   "cell_type": "markdown",
   "metadata": {},
   "source": [
    "## Choose 3-5 custom stocks with at last 1 year's worth of historic prices and create a DataFrame of the closing prices and dates for each stock.\n",
    "\n",
    "For this demo solution, we fetch data from three companies listes in the S&P 500 index.\n",
    "\n",
    "* `GOOG` - [Google, LLC](https://en.wikipedia.org/wiki/Google)\n",
    "\n",
    "* `AAPL` - [Apple Inc.](https://en.wikipedia.org/wiki/Apple_Inc.)\n",
    "\n",
    "* `COST` - [Costco Wholesale Corporation](https://en.wikipedia.org/wiki/Costco)"
   ]
  },
  {
   "cell_type": "code",
   "execution_count": 28,
   "metadata": {},
   "outputs": [
    {
     "name": "stdout",
     "output_type": "stream",
     "text": [
      "Null values for AAPL: AAPL    0\n",
      "dtype: int64\n",
      "              AAPL\n",
      "Date              \n",
      "2018-05-11  188.59\n",
      "2018-05-14  188.15\n",
      "2018-05-15  186.44\n",
      "2018-05-16  188.18\n",
      "2018-05-17  186.99\n"
     ]
    }
   ],
   "source": [
    "# Reading data from 1st stock\n",
    "\n",
    "aapl_historical_data = Path(\"./Resources/aapl_historical.csv\")\n",
    "\n",
    "# read dataframe\n",
    "\n",
    "aapl_historical_df = pd.read_csv(aapl_historical_data)\n",
    "\n",
    "# set columns\n",
    "\n",
    "aapl_historical_df.columns = [\"Symbol\", \"Date\", \"AAPL\"]\n",
    "\n",
    "# set index\n",
    "\n",
    "aapl_historical_df.set_index(pd.to_datetime(aapl_historical_df[\"Date\"], infer_datetime_format = True), inplace = True)\n",
    "\n",
    "# Drop dups:\n",
    "\n",
    "aapl_historical_df.drop(columns = [\"Symbol\", \"Date\"], inplace = True)\n",
    "\n",
    "# ascending order\n",
    "\n",
    "aapl_historical_df.sort_index(inplace = True, ascending = True)\n",
    "\n",
    "# check for null values:\n",
    "print(f\"Null values for AAPL: {aapl_historical_df.isnull().sum()}\")\n",
    "print(aapl_historical_df.head(5))"
   ]
  },
  {
   "cell_type": "code",
   "execution_count": 31,
   "metadata": {},
   "outputs": [
    {
     "name": "stdout",
     "output_type": "stream",
     "text": [
      "Null values for COST: COST    0\n",
      "dtype: int64\n",
      "              COST\n",
      "Date              \n",
      "2018-05-11  195.76\n",
      "2018-05-14  195.88\n",
      "2018-05-15  195.48\n",
      "2018-05-16  198.71\n",
      "2018-05-17  199.60\n"
     ]
    }
   ],
   "source": [
    "# Reading data from 2nd stock\n",
    "\n",
    "cost_historical_data = Path(\"./Resources/cost_historical.csv\")\n",
    "\n",
    "# read dataframe\n",
    "\n",
    "cost_historical_df = pd.read_csv(cost_historical_data)\n",
    "\n",
    "# set columns\n",
    "\n",
    "cost_historical_df.columns = [\"Symbol\", \"Date\", \"COST\"]\n",
    "\n",
    "# set index\n",
    "\n",
    "cost_historical_df.set_index(pd.to_datetime(cost_historical_df[\"Date\"], infer_datetime_format = True), inplace = True)\n",
    "\n",
    "# Drop dups:\n",
    "\n",
    "cost_historical_df.drop(columns = [\"Symbol\", \"Date\"], inplace = True)\n",
    "\n",
    "# ascending order\n",
    "\n",
    "cost_historical_df.sort_index(inplace = True, ascending = True)\n",
    "\n",
    "# check for null values:\n",
    "print(f\"Null values for COST: {cost_historical_df.isnull().sum()}\")\n",
    "print(cost_historical_df.head(5))"
   ]
  },
  {
   "cell_type": "code",
   "execution_count": 33,
   "metadata": {},
   "outputs": [
    {
     "name": "stdout",
     "output_type": "stream",
     "text": [
      "Null values for GOOG: GOOG    0\n",
      "dtype: int64\n",
      "               GOOG\n",
      "Date               \n",
      "2018-05-11  1098.26\n",
      "2018-05-14  1100.20\n",
      "2018-05-15  1079.23\n",
      "2018-05-16  1081.77\n",
      "2018-05-17  1078.59\n"
     ]
    }
   ],
   "source": [
    "# Reading data from 3rd stock\n",
    "\n",
    "goog_historical_data = Path(\"./Resources/goog_historical.csv\")\n",
    "\n",
    "# read dataframe\n",
    "\n",
    "goog_historical_df = pd.read_csv(goog_historical_data)\n",
    "\n",
    "# set columns\n",
    "\n",
    "goog_historical_df.columns = [\"Symbol\", \"Date\", \"GOOG\"]\n",
    "\n",
    "# set index\n",
    "\n",
    "goog_historical_df.set_index(pd.to_datetime(goog_historical_df[\"Date\"], infer_datetime_format = True), inplace = True)\n",
    "\n",
    "# Drop dups:\n",
    "\n",
    "goog_historical_df.drop(columns = [\"Symbol\", \"Date\"], inplace = True)\n",
    "\n",
    "# ascending order\n",
    "\n",
    "goog_historical_df.sort_index(inplace = True, ascending = True)\n",
    "\n",
    "# check for null values:\n",
    "print(f\"Null values for GOOG: {goog_historical_df.isnull().sum()}\")\n",
    "print(goog_historical_df.head(5))"
   ]
  },
  {
   "cell_type": "code",
   "execution_count": 34,
   "metadata": {},
   "outputs": [
    {
     "name": "stdout",
     "output_type": "stream",
     "text": [
      "              AAPL    COST     GOOG\n",
      "Date                               \n",
      "2018-05-11  188.59  195.76  1098.26\n",
      "2018-05-14  188.15  195.88  1100.20\n",
      "2018-05-15  186.44  195.48  1079.23\n",
      "2018-05-16  188.18  198.71  1081.77\n",
      "2018-05-17  186.99  199.60  1078.59\n"
     ]
    }
   ],
   "source": [
    "# Combine all stocks in a single DataFrame\n",
    "\n",
    "select_equity_historical_df = pd.concat([aapl_historical_df, cost_historical_df, goog_historical_df], axis = \"columns\", join =\"inner\")\n",
    "\n",
    "print(select_equity_historical_df.head(5))"
   ]
  },
  {
   "cell_type": "code",
   "execution_count": 36,
   "metadata": {},
   "outputs": [
    {
     "name": "stdout",
     "output_type": "stream",
     "text": [
      "Date Reset\n"
     ]
    }
   ],
   "source": [
    "# Reset Date index\n",
    "print(\"Date Reset\")"
   ]
  },
  {
   "cell_type": "code",
   "execution_count": 37,
   "metadata": {},
   "outputs": [
    {
     "name": "stdout",
     "output_type": "stream",
     "text": [
      "Ticker Symbol\n"
     ]
    }
   ],
   "source": [
    "# Reorganize portfolio data by having a column per symbol\n",
    "print(\"Ticker Symbol\")"
   ]
  },
  {
   "cell_type": "code",
   "execution_count": 44,
   "metadata": {},
   "outputs": [
    {
     "name": "stdout",
     "output_type": "stream",
     "text": [
      "Equity Returns:\n",
      "                AAPL      COST      GOOG\n",
      "Date                                    \n",
      "2018-05-14 -0.002333  0.000613  0.001766\n",
      "2018-05-15 -0.009088 -0.002042 -0.019060\n",
      "2018-05-16  0.009333  0.016523  0.002354\n",
      "2018-05-17 -0.006324  0.004479 -0.002940\n",
      "2018-05-18 -0.003637 -0.003206 -0.011339\n"
     ]
    }
   ],
   "source": [
    "# Calculate daily returns\n",
    "select_equity_returns_df = select_equity_historical_df.pct_change()\n",
    "\n",
    "# Drop NAs\n",
    "select_equity_returns_df.dropna(inplace = True)\n",
    "\n",
    "# Display sample data\n",
    "print(f\"Equity Returns:\\n{select_equity_returns_df.head(5)}\")"
   ]
  },
  {
   "cell_type": "markdown",
   "metadata": {},
   "source": [
    "## Calculate the weighted returns for the portfolio assuming an equal number of shares for each stock"
   ]
  },
  {
   "cell_type": "code",
   "execution_count": 46,
   "metadata": {},
   "outputs": [
    {
     "name": "stdout",
     "output_type": "stream",
     "text": [
      "Portfolio Returns:\n",
      " Date\n",
      "2018-05-14    0.000015\n",
      "2018-05-15   -0.010064\n",
      "2018-05-16    0.009403\n",
      "dtype: float64\n"
     ]
    }
   ],
   "source": [
    "# Set weights\n",
    "weights = [1/3, 1/3, 1/3]\n",
    "\n",
    "# Calculate portfolio return\n",
    "select_portfolio_returns_se = select_equity_returns_df.dot(weights)\n",
    "\n",
    "# Display sample data\n",
    "print(f\"Portfolio Returns:\\n {select_portfolio_returns_se.head(3)}\")"
   ]
  },
  {
   "cell_type": "markdown",
   "metadata": {},
   "source": [
    "## Join your portfolio returns to the DataFrame that contains all of the portfolio returns"
   ]
  },
  {
   "cell_type": "code",
   "execution_count": 49,
   "metadata": {},
   "outputs": [],
   "source": [
    "# Join your returns DataFrame to the original returns DataFrame\n",
    "select_combined_returns_df = pd.concat([select_portfolio_returns_se, combined_returns_df], axis = \"columns\", join = \"inner\")\n",
    "select_combined_returns_df.columns = [\"select\", \"sp500\", \"soros_fund\", \"paulson_fund\", \"tiger_global_fund\", \"berkshire_fund\", \"algo_1\", \"algo_2\"]"
   ]
  },
  {
   "cell_type": "code",
   "execution_count": 59,
   "metadata": {},
   "outputs": [
    {
     "name": "stdout",
     "output_type": "stream",
     "text": [
      "Combined Returns for all stocks:\n",
      "               select     sp500  soros_fund  paulson_fund  tiger_global_fund  \\\n",
      "Date                                                                          \n",
      "2018-05-14  0.000015  0.000884    0.000000      0.000000           0.000000   \n",
      "2018-05-15 -0.010064 -0.006842   -0.000726     -0.001409          -0.003189   \n",
      "2018-05-16  0.009403  0.004061    0.008637      0.006244           0.005480   \n",
      "2018-05-17 -0.001595 -0.000856   -0.001955      0.002524          -0.006267   \n",
      "2018-05-18 -0.006061 -0.002632   -0.004357     -0.002672          -0.012832   \n",
      "2018-05-21  0.007600  0.007387    0.002503     -0.001195          -0.001153   \n",
      "2018-05-22 -0.004962 -0.003136   -0.002345      0.001168          -0.000240   \n",
      "\n",
      "            berkshire_fund    algo_1    algo_2  \n",
      "Date                                            \n",
      "2018-05-14        0.000000  0.000915  0.001635  \n",
      "2018-05-15       -0.014606 -0.001135 -0.001139  \n",
      "2018-05-16        0.004310 -0.002326  0.003341  \n",
      "2018-05-17       -0.005140 -0.006949  0.005205  \n",
      "2018-05-18       -0.002212  0.002557 -0.002496  \n",
      "2018-05-21        0.010370 -0.003092  0.004924  \n",
      "2018-05-22       -0.002455  0.011234 -0.005628  \n"
     ]
    }
   ],
   "source": [
    "# Only compare dates where return data exists for all the stocks (drop NaNs)\n",
    "print(f\"Combined Returns for all stocks:\\n {select_combined_returns_df.head(7)}\")"
   ]
  },
  {
   "cell_type": "markdown",
   "metadata": {},
   "source": [
    "## Re-run the risk analysis with your portfolio to see how it compares to the others"
   ]
  },
  {
   "cell_type": "markdown",
   "metadata": {},
   "source": [
    "### Calculate the Annualized Standard Deviation"
   ]
  },
  {
   "cell_type": "code",
   "execution_count": 61,
   "metadata": {},
   "outputs": [
    {
     "name": "stdout",
     "output_type": "stream",
     "text": [
      " Annual Volatility of Select: 0.21149550884465998\n",
      " Annual Volatility of SP500: 0.15205391342129804\n",
      " Annual Volatility of Soros Fund: 0.1466752232704433\n",
      " Annual Volatility of Paulson Fund: 0.11673186189013743\n",
      " Annual Volatility of Tiger Global Fund: 0.23253098791242316\n",
      " Annual Volatility of Berkshaire Hathaway: 3.8348783452142254\n",
      " Annual Volatility of Algo 1: 0.13370379015428233\n",
      " Annual Volatility of Algo 2: 0.13955634264207697\n"
     ]
    }
   ],
   "source": [
    "# Calculate the annualized `std`\n",
    "\n",
    "volatility_annual = select_combined_returns_df.std() * np.sqrt(252)\n",
    "\n",
    "volatility_annual_select = volatility_annual[0]\n",
    "volatility_annual_sp500 = volatility_annual[1]\n",
    "volatility_annual_soros_fund = volatility_annual[2]\n",
    "volatility_annual_paulson_fund = volatility_annual[3]\n",
    "volatility_annual_tiger_global_fund = volatility_annual[4]\n",
    "volatility_annual_berkshire_fund = volatility_annual[5]\n",
    "volatility_annual_algo_1 = volatility_annual[6]\n",
    "volatility_annual_algo_2 = volatility_annual[7]\n",
    "\n",
    "print(f\" Annual Volatility of Select: {volatility_annual_select}\")\n",
    "print(f\" Annual Volatility of SP500: {volatility_annual_sp500}\")\n",
    "print(f\" Annual Volatility of Soros Fund: {volatility_annual_soros_fund}\")\n",
    "print(f\" Annual Volatility of Paulson Fund: {volatility_annual_paulson_fund}\")\n",
    "print(f\" Annual Volatility of Tiger Global Fund: {volatility_annual_tiger_global_fund}\")\n",
    "print(f\" Annual Volatility of Berkshaire Hathaway: {volatility_annual_berkshaire_fund}\")\n",
    "print(f\" Annual Volatility of Algo 1: {volatility_annual_algo_1}\")\n",
    "print(f\" Annual Volatility of Algo 2: {volatility_annual_algo_2}\")\n"
   ]
  },
  {
   "cell_type": "markdown",
   "metadata": {},
   "source": [
    "### Calculate and plot rolling `std` with 21-day window"
   ]
  },
  {
   "cell_type": "code",
   "execution_count": 62,
   "metadata": {},
   "outputs": [
    {
     "data": {
      "text/plain": [
       "<AxesSubplot:xlabel='Date', ylabel='21 Day Rolling STD'>"
      ]
     },
     "execution_count": 62,
     "metadata": {},
     "output_type": "execute_result"
    },
    {
     "data": {
      "image/png": "[encoded data removed]",
      "text/plain": [
       "<Figure size 432x288 with 1 Axes>"
      ]
     },
     "metadata": {
      "needs_background": "light"
     },
     "output_type": "display_data"
    }
   ],
   "source": [
    "# Calculate rolling standard deviation\n",
    "day_21_rolling_STD_df = select_combined_returns_df.rolling(window = 21).std()\n",
    "\n",
    "# Plot rolling standard deviation\n",
    "day_21_rolling_STD_df.plot(xlabel = \"Date\", ylabel = \"21 Day Rolling STD\")"
   ]
  },
  {
   "cell_type": "markdown",
   "metadata": {},
   "source": [
    "### Calculate and plot the correlation"
   ]
  },
  {
   "cell_type": "code",
   "execution_count": 64,
   "metadata": {},
   "outputs": [
    {
     "name": "stdout",
     "output_type": "stream",
     "text": [
      "Correlation Matrix:\n",
      "                      select     sp500  soros_fund  paulson_fund  \\\n",
      "select             1.000000  0.871875    0.733250      0.644210   \n",
      "sp500              0.871875  1.000000    0.876981      0.766680   \n",
      "soros_fund         0.733250  0.876981    1.000000      0.791962   \n",
      "paulson_fund       0.644210  0.766680    0.791962      1.000000   \n",
      "tiger_global_fund  0.391972  0.481030    0.478627      0.485375   \n",
      "berkshire_fund     0.801158  0.852303    0.816675      0.650758   \n",
      "algo_1             0.261471  0.289358    0.337826      0.361301   \n",
      "algo_2             0.739936  0.875721    0.862846      0.783656   \n",
      "\n",
      "                   tiger_global_fund  berkshire_fund    algo_1    algo_2  \n",
      "select                      0.391972        0.801158  0.261471  0.739936  \n",
      "sp500                       0.481030        0.852303  0.289358  0.875721  \n",
      "soros_fund                  0.478627        0.816675  0.337826  0.862846  \n",
      "paulson_fund                0.485375        0.650758  0.361301  0.783656  \n",
      "tiger_global_fund           1.000000        0.325457  0.114554  0.409496  \n",
      "berkshire_fund              0.325457        1.000000  0.327000  0.782804  \n",
      "algo_1                      0.114554        0.327000  1.000000  0.365512  \n",
      "algo_2                      0.409496        0.782804  0.365512  1.000000  \n"
     ]
    }
   ],
   "source": [
    "# Calculate and plot the correlation\n",
    "\n",
    "select_correlation = select_combined_returns_df.corr()\n",
    "\n",
    "print(f\"Correlation Matrix:\\n {select_correlation}\")"
   ]
  },
  {
   "cell_type": "markdown",
   "metadata": {},
   "source": [
    "### Calculate and Plot Rolling 60-day Beta for Your Portfolio compared to the S&P 500"
   ]
  },
  {
   "cell_type": "code",
   "execution_count": 42,
   "metadata": {},
   "outputs": [],
   "source": [
    "# Calculate and plot Beta\n",
    "\n",
    "select_covariance_select_fund = select_combined_returns_df[\"select\"].cov(select_combined_returns_df[\"sp500\"])\n",
    "select_covariance_select_fund = select_combined_returns_df[\"select\"].cov(select_combined_returns_df[\"sp500\"])\n",
    "select_covariance_select_fund = select_combined_returns_df[\"select\"].cov(select_combined_returns_df[\"sp500\"])\n",
    "select_covariance_select_fund = select_combined_returns_df[\"select\"].cov(select_combined_returns_df[\"sp500\"])\n",
    "select_covariance_select_fund = select_combined_returns_df[\"select\"].cov(select_combined_returns_df[\"sp500\"])\n",
    "select_covariance_select_fund = select_combined_returns_df[\"select\"].cov(select_combined_returns_df[\"sp500\"])\n",
    "select_covariance_select_fund = select_combined_returns_df[\"select\"].cov(select_combined_returns_df[\"sp500\"])\n"
   ]
  },
  {
   "cell_type": "markdown",
   "metadata": {},
   "source": [
    "### Using the daily returns, calculate and visualize the Sharpe ratios using a bar plot"
   ]
  },
  {
   "cell_type": "code",
   "execution_count": 43,
   "metadata": {},
   "outputs": [],
   "source": [
    "# Calculate Annualzied Sharpe Ratios\n"
   ]
  },
  {
   "cell_type": "code",
   "execution_count": 44,
   "metadata": {},
   "outputs": [],
   "source": [
    "# Visualize the sharpe ratios as a bar plot\n"
   ]
  },
  {
   "cell_type": "markdown",
   "metadata": {},
   "source": [
    "### How does your portfolio do?\n",
    "\n",
    "Write your answer here!"
   ]
  }
 ],
 "metadata": {
  "file_extension": ".py",
  "kernelspec": {
   "display_name": "Python 3",
   "language": "python",
   "name": "python3"
  },
  "language_info": {
   "codemirror_mode": {
    "name": "ipython",
    "version": 3
   },
   "file_extension": ".py",
   "mimetype": "text/x-python",
   "name": "python",
   "nbconvert_exporter": "python",
   "pygments_lexer": "ipython3",
   "version": "3.8.5"
  },
  "mimetype": "text/x-python",
  "name": "python",
  "npconvert_exporter": "python",
  "pygments_lexer": "ipython3",
  "version": 3
 },
 "nbformat": 4,
 "nbformat_minor": 4
}
